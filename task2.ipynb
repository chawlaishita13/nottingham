{
 "cells": [
  {
   "cell_type": "code",
   "execution_count": 6,
   "metadata": {},
   "outputs": [],
   "source": [
    "import os\n",
    "import glob\n",
    "import numpy as np\n",
    "import miditoolkit\n",
    "import tensorflow as tf\n",
    "\n",
    "melody_folder = '/Users/ishitachawla/Documents/CSE253/Assignment_2/nottingham-dataset/MIDI/melody'\n",
    "chord_folder  = '/Users/ishitachawla/Documents/CSE253/Assignment_2/nottingham-dataset/MIDI/chords'"
   ]
  },
  {
   "cell_type": "code",
   "execution_count": 8,
   "metadata": {},
   "outputs": [
    {
     "name": "stdout",
     "output_type": "stream",
     "text": [
      "Found 1034 melody files and 1021 chord files.\n"
     ]
    }
   ],
   "source": [
    "all_melody_seqs = []\n",
    "all_chord_seqs  = []\n",
    "\n",
    "# We’ll sort the filenames so that melody and chord files line up by name.\n",
    "melody_files = sorted(glob.glob(os.path.join(melody_folder, '*.mid')))\n",
    "chord_files  = sorted(glob.glob(os.path.join(chord_folder,  '*.mid')))\n",
    "\n",
    "print(f'Found {len(melody_files)} melody files and {len(chord_files)} chord files.')"
   ]
  },
  {
   "cell_type": "code",
   "execution_count": 9,
   "metadata": {},
   "outputs": [],
   "source": [
    "import os\n",
    "import glob\n",
    "\n",
    "# 1) Grab all .mid file paths\n",
    "all_melody_paths = glob.glob(os.path.join(melody_folder, '*.mid'))\n",
    "all_chord_paths  = glob.glob(os.path.join(chord_folder,  '*.mid'))\n",
    "\n",
    "# 2) Build a dict: { base_name_without_ext → full_path }\n",
    "melody_dict = {\n",
    "    os.path.splitext(os.path.basename(m))[0]: m\n",
    "    for m in all_melody_paths\n",
    "}\n",
    "chord_dict = {\n",
    "    os.path.splitext(os.path.basename(c))[0]: c\n",
    "    for c in all_chord_paths\n",
    "}\n",
    "\n",
    "# 3) Compute the intersection of base‐names\n",
    "common_names = set(melody_dict.keys()).intersection(set(chord_dict.keys()))\n",
    "\n",
    "# 4) Filter both lists to only keep those whose base‐name exists in BOTH\n",
    "melody_files_filtered = [melody_dict[name] for name in sorted(common_names)]\n",
    "chord_files_filtered  = [chord_dict[name]  for name in sorted(common_names)]\n"
   ]
  },
  {
   "cell_type": "code",
   "execution_count": 10,
   "metadata": {},
   "outputs": [
    {
     "name": "stdout",
     "output_type": "stream",
     "text": [
      "Found 1021 melody files and 1021 chord files after filtering.\n"
     ]
    }
   ],
   "source": [
    "print(f'Found {len(melody_files_filtered)} melody files and {len(chord_files_filtered)} chord files after filtering.')"
   ]
  },
  {
   "cell_type": "code",
   "execution_count": 13,
   "metadata": {},
   "outputs": [
    {
     "name": "stdout",
     "output_type": "stream",
     "text": [
      "Loaded pitch sequences from filtered MIDI files.\n"
     ]
    }
   ],
   "source": [
    "all_melody_seqs = []\n",
    "all_chord_seqs  = []\n",
    "\n",
    "for m_path, c_path in zip(melody_files_filtered, chord_files_filtered):\n",
    "    # (a) Load melody MIDI → instrument[0] → sorted notes by start time\n",
    "    m_midi = miditoolkit.MidiFile(m_path)\n",
    "    melody_instr = m_midi.instruments[0]\n",
    "    melody_instr.notes.sort(key=lambda note: note.start)\n",
    "    melody_pitches = [note.pitch for note in melody_instr.notes]\n",
    "    all_melody_seqs.append(melody_pitches)\n",
    "\n",
    "    # (b) Load chord MIDI → instrument[0] → sorted notes by start time\n",
    "    c_midi = miditoolkit.MidiFile(c_path)\n",
    "    chord_instr = c_midi.instruments[0]\n",
    "    chord_instr.notes.sort(key=lambda note: note.start)\n",
    "    chord_pitches = [note.pitch for note in chord_instr.notes]\n",
    "    all_chord_seqs.append(chord_pitches)\n",
    "\n",
    "print(\"Loaded pitch sequences from filtered MIDI files.\")\n"
   ]
  },
  {
   "cell_type": "code",
   "execution_count": null,
   "metadata": {},
   "outputs": [
    {
     "name": "stdout",
     "output_type": "stream",
     "text": [
      "Melody vocab size  M = 33\n",
      "Chord   vocab size  K = 22\n",
      "Unique melody pitches: [55, 56, 57, 58, 59, 60, 61, 62, 63, 64, 65, 66, 67, 68, 69, 70, 71, 72, 73, 74, 75, 76, 77, 78, 79, 80, 81, 82, 83, 84, 85, 86, 88]\n",
      "Unique chord pitches: [36, 37, 38, 39, 40, 41, 42, 43, 44, 45, 46, 47, 48, 49, 50, 51, 52, 53, 54, 55, 56, 57]\n"
     ]
    }
   ],
   "source": [
    "unique_melody_pitches = sorted({p for seq in all_melody_seqs for p in seq})\n",
    "unique_chord_pitches  = sorted({p for seq in all_chord_seqs  for p in seq})\n",
    "\n",
    "melody_to_int = {pitch: idx for idx, pitch in enumerate(unique_melody_pitches)}\n",
    "int_to_melody = {idx: pitch for pitch, idx in melody_to_int.items()}\n",
    "\n",
    "chord_to_int  = {pitch: idx for idx, pitch in enumerate(unique_chord_pitches)}\n",
    "int_to_chord  = {idx: pitch for pitch, idx in chord_to_int.items()}\n",
    "\n",
    "print(f\"Melody vocab size  M = {len(melody_to_int)}\")\n",
    "print(f\"Chord   vocab size  K = {len(chord_to_int)}\")"
   ]
  },
  {
   "cell_type": "code",
   "execution_count": 19,
   "metadata": {},
   "outputs": [
    {
     "name": "stdout",
     "output_type": "stream",
     "text": [
      "Converted all pitch sequences to integer sequences.\n",
      "Total melody sequences: 1021\n",
      "Total chord sequences: 1021\n"
     ]
    }
   ],
   "source": [
    "all_melody_ints = []\n",
    "all_chord_ints  = []\n",
    "\n",
    "for mel_seq, ch_seq in zip(all_melody_seqs, all_chord_seqs):\n",
    "    mel_int_seq = [melody_to_int[p] for p in mel_seq]\n",
    "    ch_int_seq  = [chord_to_int[p]  for p in ch_seq]\n",
    "    all_melody_ints.append(mel_int_seq)\n",
    "    all_chord_ints.append(ch_int_seq)\n",
    "\n",
    "print(\"Converted all pitch sequences to integer sequences.\")\n",
    "\n",
    "print(f\"Total melody sequences: {len(all_melody_ints)}\")\n",
    "print(f\"Total chord sequences: {len(all_chord_ints)}\")"
   ]
  },
  {
   "cell_type": "code",
   "execution_count": 29,
   "metadata": {},
   "outputs": [],
   "source": [
    "from tensorflow.keras.layers import Input, Embedding, LSTM, Dense, Concatenate\n",
    "from tensorflow.keras.models import Model\n",
    "class ConditionalMidiLSTM:\n",
    "    def __init__(self,\n",
    "                 melody_vocab_size,\n",
    "                 chord_vocab_size,\n",
    "                 sequence_length=25,\n",
    "                 melody_embed_dim=64,\n",
    "                 chord_embed_dim=64,\n",
    "                 lstm_units=128,\n",
    "                 dropout_rate=0.2):\n",
    "        self.sequence_length   = sequence_length\n",
    "        self.melody_vocab_size = melody_vocab_size\n",
    "        self.chord_vocab_size  = chord_vocab_size\n",
    "        self.melody_embed_dim  = melody_embed_dim\n",
    "        self.chord_embed_dim   = chord_embed_dim\n",
    "        self.lstm_units        = lstm_units\n",
    "        self.dropout_rate      = dropout_rate\n",
    "        self.model             = None\n",
    "\n",
    "    def create_conditional_sequences(self, all_mel_lists, all_ch_lists):\n",
    "        \"\"\"\n",
    "        all_mel_lists: list of lists of ints (each int in [0..M-1])\n",
    "        all_ch_lists:  list of lists of ints (each int in [0..K-1]),\n",
    "                       len(mel_list[i]) == len(ch_list[i]) for each i.\n",
    "\n",
    "        Returns:\n",
    "          X_melody: (N, L)\n",
    "          X_chord:  (N, L)\n",
    "          y_chord:  (N, K)  one-hot targets\n",
    "        \"\"\"\n",
    "        sequences_m = []\n",
    "        sequences_c = []\n",
    "        targets_c   = []\n",
    "        L = self.sequence_length\n",
    "        step = L // 2  # half-overlap\n",
    "\n",
    "        for m_seq, c_seq in zip(all_mel_lists, all_ch_lists):\n",
    "            min_len = min(len(m_seq), len(c_seq))\n",
    "            m_seq = m_seq[:min_len]\n",
    "            c_seq = c_seq[:min_len]\n",
    "            T = len(m_seq)\n",
    "            for i in range(0, T - L, step):\n",
    "                seq_m = m_seq[i : i + L]\n",
    "                seq_c = c_seq[i : i + L]\n",
    "                tgt   = c_seq[i + L]\n",
    "                sequences_m.append(seq_m)\n",
    "                sequences_c.append(seq_c)\n",
    "                targets_c.append(tgt)\n",
    "\n",
    "        X_melody = np.array(sequences_m, dtype=np.int32)\n",
    "        X_chord  = np.array(sequences_c, dtype=np.int32)\n",
    "        y_chord  = tf.keras.utils.to_categorical(\n",
    "            targets_c, num_classes=self.chord_vocab_size\n",
    "        )\n",
    "        return X_melody, X_chord, y_chord\n",
    "\n",
    "    def build_model(self):\n",
    "        L = self.sequence_length\n",
    "        M = self.melody_vocab_size\n",
    "        K = self.chord_vocab_size\n",
    "        em = self.melody_embed_dim\n",
    "        ec = self.chord_embed_dim\n",
    "        U  = self.lstm_units\n",
    "        d  = self.dropout_rate\n",
    "\n",
    "        # Melody branch\n",
    "        melody_in  = Input(shape=(L,), name='melody_input')\n",
    "        melody_emb = Embedding(input_dim=M, output_dim=em, input_length=L)(melody_in)\n",
    "\n",
    "        # Chord branch (previous chords)\n",
    "        chord_in   = Input(shape=(L,), name='chord_input')\n",
    "        chord_emb  = Embedding(input_dim=K, output_dim=ec, input_length=L)(chord_in)\n",
    "\n",
    "        # Concatenate along last axis → (L, em+ec)\n",
    "        merged = Concatenate(axis=-1)([melody_emb, chord_emb])\n",
    "\n",
    "        # Single LSTM over merged embeddings\n",
    "        x = LSTM(U, dropout=d, recurrent_dropout=d)(merged)\n",
    "\n",
    "        # Final Dense → next chord\n",
    "        output = Dense(K, activation='softmax', name='chord_output')(x)\n",
    "\n",
    "        model = Model(inputs=[melody_in, chord_in], outputs=output)\n",
    "        model.compile(\n",
    "            loss='categorical_crossentropy',\n",
    "            optimizer='adam',\n",
    "            metrics=['accuracy']\n",
    "        )\n",
    "        self.model = model\n",
    "        print(model.summary())\n",
    "        return model"
   ]
  },
  {
   "cell_type": "code",
   "execution_count": 30,
   "metadata": {},
   "outputs": [
    {
     "name": "stdout",
     "output_type": "stream",
     "text": [
      "1021 1021\n",
      "X_melody shape: (10976, 25) X_chord shape: (10976, 25) y_chord shape: (10976, 22)\n"
     ]
    }
   ],
   "source": [
    "sequence_length = 25\n",
    "\n",
    "cm = ConditionalMidiLSTM(\n",
    "    melody_vocab_size=len(melody_to_int),\n",
    "    chord_vocab_size =len(chord_to_int),\n",
    "    sequence_length =sequence_length,\n",
    "    melody_embed_dim=64,\n",
    "    chord_embed_dim =64,\n",
    "    lstm_units      =128,\n",
    "    dropout_rate    =0.2\n",
    ")\n",
    "print(len(all_melody_ints), len(all_chord_ints))    \n",
    "X_mel, X_ch, y_ch = cm.create_conditional_sequences(all_melody_ints, all_chord_ints)\n",
    "print(f\"X_melody shape: {X_mel.shape} X_chord shape: {X_ch.shape} y_chord shape: {y_ch.shape}\")"
   ]
  },
  {
   "cell_type": "code",
   "execution_count": 31,
   "metadata": {},
   "outputs": [
    {
     "name": "stderr",
     "output_type": "stream",
     "text": [
      "/opt/anaconda3/lib/python3.12/site-packages/keras/src/layers/core/embedding.py:97: UserWarning: Argument `input_length` is deprecated. Just remove it.\n",
      "  warnings.warn(\n"
     ]
    },
    {
     "data": {
      "text/html": [
       "<pre style=\"white-space:pre;overflow-x:auto;line-height:normal;font-family:Menlo,'DejaVu Sans Mono',consolas,'Courier New',monospace\"><span style=\"font-weight: bold\">Model: \"functional\"</span>\n",
       "</pre>\n"
      ],
      "text/plain": [
       "\u001b[1mModel: \"functional\"\u001b[0m\n"
      ]
     },
     "metadata": {},
     "output_type": "display_data"
    },
    {
     "data": {
      "text/html": [
       "<pre style=\"white-space:pre;overflow-x:auto;line-height:normal;font-family:Menlo,'DejaVu Sans Mono',consolas,'Courier New',monospace\">┏━━━━━━━━━━━━━━━━━━━━━┳━━━━━━━━━━━━━━━━━━━┳━━━━━━━━━━━━┳━━━━━━━━━━━━━━━━━━━┓\n",
       "┃<span style=\"font-weight: bold\"> Layer (type)        </span>┃<span style=\"font-weight: bold\"> Output Shape      </span>┃<span style=\"font-weight: bold\">    Param # </span>┃<span style=\"font-weight: bold\"> Connected to      </span>┃\n",
       "┡━━━━━━━━━━━━━━━━━━━━━╇━━━━━━━━━━━━━━━━━━━╇━━━━━━━━━━━━╇━━━━━━━━━━━━━━━━━━━┩\n",
       "│ melody_input        │ (<span style=\"color: #00d7ff; text-decoration-color: #00d7ff\">None</span>, <span style=\"color: #00af00; text-decoration-color: #00af00\">25</span>)        │          <span style=\"color: #00af00; text-decoration-color: #00af00\">0</span> │ -                 │\n",
       "│ (<span style=\"color: #0087ff; text-decoration-color: #0087ff\">InputLayer</span>)        │                   │            │                   │\n",
       "├─────────────────────┼───────────────────┼────────────┼───────────────────┤\n",
       "│ chord_input         │ (<span style=\"color: #00d7ff; text-decoration-color: #00d7ff\">None</span>, <span style=\"color: #00af00; text-decoration-color: #00af00\">25</span>)        │          <span style=\"color: #00af00; text-decoration-color: #00af00\">0</span> │ -                 │\n",
       "│ (<span style=\"color: #0087ff; text-decoration-color: #0087ff\">InputLayer</span>)        │                   │            │                   │\n",
       "├─────────────────────┼───────────────────┼────────────┼───────────────────┤\n",
       "│ embedding           │ (<span style=\"color: #00d7ff; text-decoration-color: #00d7ff\">None</span>, <span style=\"color: #00af00; text-decoration-color: #00af00\">25</span>, <span style=\"color: #00af00; text-decoration-color: #00af00\">64</span>)    │      <span style=\"color: #00af00; text-decoration-color: #00af00\">2,112</span> │ melody_input[<span style=\"color: #00af00; text-decoration-color: #00af00\">0</span>][<span style=\"color: #00af00; text-decoration-color: #00af00\">…</span> │\n",
       "│ (<span style=\"color: #0087ff; text-decoration-color: #0087ff\">Embedding</span>)         │                   │            │                   │\n",
       "├─────────────────────┼───────────────────┼────────────┼───────────────────┤\n",
       "│ embedding_1         │ (<span style=\"color: #00d7ff; text-decoration-color: #00d7ff\">None</span>, <span style=\"color: #00af00; text-decoration-color: #00af00\">25</span>, <span style=\"color: #00af00; text-decoration-color: #00af00\">64</span>)    │      <span style=\"color: #00af00; text-decoration-color: #00af00\">1,408</span> │ chord_input[<span style=\"color: #00af00; text-decoration-color: #00af00\">0</span>][<span style=\"color: #00af00; text-decoration-color: #00af00\">0</span>] │\n",
       "│ (<span style=\"color: #0087ff; text-decoration-color: #0087ff\">Embedding</span>)         │                   │            │                   │\n",
       "├─────────────────────┼───────────────────┼────────────┼───────────────────┤\n",
       "│ concatenate         │ (<span style=\"color: #00d7ff; text-decoration-color: #00d7ff\">None</span>, <span style=\"color: #00af00; text-decoration-color: #00af00\">25</span>, <span style=\"color: #00af00; text-decoration-color: #00af00\">128</span>)   │          <span style=\"color: #00af00; text-decoration-color: #00af00\">0</span> │ embedding[<span style=\"color: #00af00; text-decoration-color: #00af00\">0</span>][<span style=\"color: #00af00; text-decoration-color: #00af00\">0</span>],  │\n",
       "│ (<span style=\"color: #0087ff; text-decoration-color: #0087ff\">Concatenate</span>)       │                   │            │ embedding_1[<span style=\"color: #00af00; text-decoration-color: #00af00\">0</span>][<span style=\"color: #00af00; text-decoration-color: #00af00\">0</span>] │\n",
       "├─────────────────────┼───────────────────┼────────────┼───────────────────┤\n",
       "│ lstm (<span style=\"color: #0087ff; text-decoration-color: #0087ff\">LSTM</span>)         │ (<span style=\"color: #00d7ff; text-decoration-color: #00d7ff\">None</span>, <span style=\"color: #00af00; text-decoration-color: #00af00\">128</span>)       │    <span style=\"color: #00af00; text-decoration-color: #00af00\">131,584</span> │ concatenate[<span style=\"color: #00af00; text-decoration-color: #00af00\">0</span>][<span style=\"color: #00af00; text-decoration-color: #00af00\">0</span>] │\n",
       "├─────────────────────┼───────────────────┼────────────┼───────────────────┤\n",
       "│ chord_output        │ (<span style=\"color: #00d7ff; text-decoration-color: #00d7ff\">None</span>, <span style=\"color: #00af00; text-decoration-color: #00af00\">22</span>)        │      <span style=\"color: #00af00; text-decoration-color: #00af00\">2,838</span> │ lstm[<span style=\"color: #00af00; text-decoration-color: #00af00\">0</span>][<span style=\"color: #00af00; text-decoration-color: #00af00\">0</span>]        │\n",
       "│ (<span style=\"color: #0087ff; text-decoration-color: #0087ff\">Dense</span>)             │                   │            │                   │\n",
       "└─────────────────────┴───────────────────┴────────────┴───────────────────┘\n",
       "</pre>\n"
      ],
      "text/plain": [
       "┏━━━━━━━━━━━━━━━━━━━━━┳━━━━━━━━━━━━━━━━━━━┳━━━━━━━━━━━━┳━━━━━━━━━━━━━━━━━━━┓\n",
       "┃\u001b[1m \u001b[0m\u001b[1mLayer (type)       \u001b[0m\u001b[1m \u001b[0m┃\u001b[1m \u001b[0m\u001b[1mOutput Shape     \u001b[0m\u001b[1m \u001b[0m┃\u001b[1m \u001b[0m\u001b[1m   Param #\u001b[0m\u001b[1m \u001b[0m┃\u001b[1m \u001b[0m\u001b[1mConnected to     \u001b[0m\u001b[1m \u001b[0m┃\n",
       "┡━━━━━━━━━━━━━━━━━━━━━╇━━━━━━━━━━━━━━━━━━━╇━━━━━━━━━━━━╇━━━━━━━━━━━━━━━━━━━┩\n",
       "│ melody_input        │ (\u001b[38;5;45mNone\u001b[0m, \u001b[38;5;34m25\u001b[0m)        │          \u001b[38;5;34m0\u001b[0m │ -                 │\n",
       "│ (\u001b[38;5;33mInputLayer\u001b[0m)        │                   │            │                   │\n",
       "├─────────────────────┼───────────────────┼────────────┼───────────────────┤\n",
       "│ chord_input         │ (\u001b[38;5;45mNone\u001b[0m, \u001b[38;5;34m25\u001b[0m)        │          \u001b[38;5;34m0\u001b[0m │ -                 │\n",
       "│ (\u001b[38;5;33mInputLayer\u001b[0m)        │                   │            │                   │\n",
       "├─────────────────────┼───────────────────┼────────────┼───────────────────┤\n",
       "│ embedding           │ (\u001b[38;5;45mNone\u001b[0m, \u001b[38;5;34m25\u001b[0m, \u001b[38;5;34m64\u001b[0m)    │      \u001b[38;5;34m2,112\u001b[0m │ melody_input[\u001b[38;5;34m0\u001b[0m][\u001b[38;5;34m…\u001b[0m │\n",
       "│ (\u001b[38;5;33mEmbedding\u001b[0m)         │                   │            │                   │\n",
       "├─────────────────────┼───────────────────┼────────────┼───────────────────┤\n",
       "│ embedding_1         │ (\u001b[38;5;45mNone\u001b[0m, \u001b[38;5;34m25\u001b[0m, \u001b[38;5;34m64\u001b[0m)    │      \u001b[38;5;34m1,408\u001b[0m │ chord_input[\u001b[38;5;34m0\u001b[0m][\u001b[38;5;34m0\u001b[0m] │\n",
       "│ (\u001b[38;5;33mEmbedding\u001b[0m)         │                   │            │                   │\n",
       "├─────────────────────┼───────────────────┼────────────┼───────────────────┤\n",
       "│ concatenate         │ (\u001b[38;5;45mNone\u001b[0m, \u001b[38;5;34m25\u001b[0m, \u001b[38;5;34m128\u001b[0m)   │          \u001b[38;5;34m0\u001b[0m │ embedding[\u001b[38;5;34m0\u001b[0m][\u001b[38;5;34m0\u001b[0m],  │\n",
       "│ (\u001b[38;5;33mConcatenate\u001b[0m)       │                   │            │ embedding_1[\u001b[38;5;34m0\u001b[0m][\u001b[38;5;34m0\u001b[0m] │\n",
       "├─────────────────────┼───────────────────┼────────────┼───────────────────┤\n",
       "│ lstm (\u001b[38;5;33mLSTM\u001b[0m)         │ (\u001b[38;5;45mNone\u001b[0m, \u001b[38;5;34m128\u001b[0m)       │    \u001b[38;5;34m131,584\u001b[0m │ concatenate[\u001b[38;5;34m0\u001b[0m][\u001b[38;5;34m0\u001b[0m] │\n",
       "├─────────────────────┼───────────────────┼────────────┼───────────────────┤\n",
       "│ chord_output        │ (\u001b[38;5;45mNone\u001b[0m, \u001b[38;5;34m22\u001b[0m)        │      \u001b[38;5;34m2,838\u001b[0m │ lstm[\u001b[38;5;34m0\u001b[0m][\u001b[38;5;34m0\u001b[0m]        │\n",
       "│ (\u001b[38;5;33mDense\u001b[0m)             │                   │            │                   │\n",
       "└─────────────────────┴───────────────────┴────────────┴───────────────────┘\n"
      ]
     },
     "metadata": {},
     "output_type": "display_data"
    },
    {
     "data": {
      "text/html": [
       "<pre style=\"white-space:pre;overflow-x:auto;line-height:normal;font-family:Menlo,'DejaVu Sans Mono',consolas,'Courier New',monospace\"><span style=\"font-weight: bold\"> Total params: </span><span style=\"color: #00af00; text-decoration-color: #00af00\">137,942</span> (538.84 KB)\n",
       "</pre>\n"
      ],
      "text/plain": [
       "\u001b[1m Total params: \u001b[0m\u001b[38;5;34m137,942\u001b[0m (538.84 KB)\n"
      ]
     },
     "metadata": {},
     "output_type": "display_data"
    },
    {
     "data": {
      "text/html": [
       "<pre style=\"white-space:pre;overflow-x:auto;line-height:normal;font-family:Menlo,'DejaVu Sans Mono',consolas,'Courier New',monospace\"><span style=\"font-weight: bold\"> Trainable params: </span><span style=\"color: #00af00; text-decoration-color: #00af00\">137,942</span> (538.84 KB)\n",
       "</pre>\n"
      ],
      "text/plain": [
       "\u001b[1m Trainable params: \u001b[0m\u001b[38;5;34m137,942\u001b[0m (538.84 KB)\n"
      ]
     },
     "metadata": {},
     "output_type": "display_data"
    },
    {
     "data": {
      "text/html": [
       "<pre style=\"white-space:pre;overflow-x:auto;line-height:normal;font-family:Menlo,'DejaVu Sans Mono',consolas,'Courier New',monospace\"><span style=\"font-weight: bold\"> Non-trainable params: </span><span style=\"color: #00af00; text-decoration-color: #00af00\">0</span> (0.00 B)\n",
       "</pre>\n"
      ],
      "text/plain": [
       "\u001b[1m Non-trainable params: \u001b[0m\u001b[38;5;34m0\u001b[0m (0.00 B)\n"
      ]
     },
     "metadata": {},
     "output_type": "display_data"
    },
    {
     "name": "stdout",
     "output_type": "stream",
     "text": [
      "None\n",
      "Epoch 1/30\n",
      "\u001b[1m69/69\u001b[0m \u001b[32m━━━━━━━━━━━━━━━━━━━━\u001b[0m\u001b[37m\u001b[0m \u001b[1m5s\u001b[0m 48ms/step - accuracy: 0.1785 - loss: 2.7206 - val_accuracy: 0.5792 - val_loss: 1.7688\n",
      "Epoch 2/30\n",
      "\u001b[1m69/69\u001b[0m \u001b[32m━━━━━━━━━━━━━━━━━━━━\u001b[0m\u001b[37m\u001b[0m \u001b[1m3s\u001b[0m 50ms/step - accuracy: 0.6362 - loss: 1.4639 - val_accuracy: 0.7969 - val_loss: 0.8250\n",
      "Epoch 3/30\n",
      "\u001b[1m69/69\u001b[0m \u001b[32m━━━━━━━━━━━━━━━━━━━━\u001b[0m\u001b[37m\u001b[0m \u001b[1m3s\u001b[0m 50ms/step - accuracy: 0.7912 - loss: 0.7914 - val_accuracy: 0.8078 - val_loss: 0.6617\n",
      "Epoch 4/30\n",
      "\u001b[1m69/69\u001b[0m \u001b[32m━━━━━━━━━━━━━━━━━━━━\u001b[0m\u001b[37m\u001b[0m \u001b[1m3s\u001b[0m 50ms/step - accuracy: 0.8054 - loss: 0.6542 - val_accuracy: 0.8192 - val_loss: 0.5962\n",
      "Epoch 5/30\n",
      "\u001b[1m69/69\u001b[0m \u001b[32m━━━━━━━━━━━━━━━━━━━━\u001b[0m\u001b[37m\u001b[0m \u001b[1m3s\u001b[0m 50ms/step - accuracy: 0.8154 - loss: 0.5903 - val_accuracy: 0.8324 - val_loss: 0.5376\n",
      "Epoch 6/30\n",
      "\u001b[1m69/69\u001b[0m \u001b[32m━━━━━━━━━━━━━━━━━━━━\u001b[0m\u001b[37m\u001b[0m \u001b[1m3s\u001b[0m 50ms/step - accuracy: 0.8220 - loss: 0.5546 - val_accuracy: 0.8342 - val_loss: 0.5115\n",
      "Epoch 7/30\n",
      "\u001b[1m69/69\u001b[0m \u001b[32m━━━━━━━━━━━━━━━━━━━━\u001b[0m\u001b[37m\u001b[0m \u001b[1m3s\u001b[0m 51ms/step - accuracy: 0.8314 - loss: 0.5175 - val_accuracy: 0.8379 - val_loss: 0.4949\n",
      "Epoch 8/30\n",
      "\u001b[1m69/69\u001b[0m \u001b[32m━━━━━━━━━━━━━━━━━━━━\u001b[0m\u001b[37m\u001b[0m \u001b[1m3s\u001b[0m 51ms/step - accuracy: 0.8365 - loss: 0.4813 - val_accuracy: 0.8370 - val_loss: 0.4839\n",
      "Epoch 9/30\n",
      "\u001b[1m69/69\u001b[0m \u001b[32m━━━━━━━━━━━━━━━━━━━━\u001b[0m\u001b[37m\u001b[0m \u001b[1m4s\u001b[0m 51ms/step - accuracy: 0.8370 - loss: 0.4749 - val_accuracy: 0.8383 - val_loss: 0.4722\n",
      "Epoch 10/30\n",
      "\u001b[1m69/69\u001b[0m \u001b[32m━━━━━━━━━━━━━━━━━━━━\u001b[0m\u001b[37m\u001b[0m \u001b[1m3s\u001b[0m 50ms/step - accuracy: 0.8340 - loss: 0.4785 - val_accuracy: 0.8406 - val_loss: 0.4665\n",
      "Epoch 11/30\n",
      "\u001b[1m69/69\u001b[0m \u001b[32m━━━━━━━━━━━━━━━━━━━━\u001b[0m\u001b[37m\u001b[0m \u001b[1m4s\u001b[0m 53ms/step - accuracy: 0.8411 - loss: 0.4509 - val_accuracy: 0.8388 - val_loss: 0.4591\n",
      "Epoch 12/30\n",
      "\u001b[1m69/69\u001b[0m \u001b[32m━━━━━━━━━━━━━━━━━━━━\u001b[0m\u001b[37m\u001b[0m \u001b[1m4s\u001b[0m 52ms/step - accuracy: 0.8461 - loss: 0.4344 - val_accuracy: 0.8370 - val_loss: 0.4570\n",
      "Epoch 13/30\n",
      "\u001b[1m69/69\u001b[0m \u001b[32m━━━━━━━━━━━━━━━━━━━━\u001b[0m\u001b[37m\u001b[0m \u001b[1m4s\u001b[0m 52ms/step - accuracy: 0.8572 - loss: 0.4175 - val_accuracy: 0.8415 - val_loss: 0.4566\n",
      "Epoch 14/30\n",
      "\u001b[1m69/69\u001b[0m \u001b[32m━━━━━━━━━━━━━━━━━━━━\u001b[0m\u001b[37m\u001b[0m \u001b[1m4s\u001b[0m 51ms/step - accuracy: 0.8462 - loss: 0.4376 - val_accuracy: 0.8402 - val_loss: 0.4556\n",
      "Epoch 15/30\n",
      "\u001b[1m69/69\u001b[0m \u001b[32m━━━━━━━━━━━━━━━━━━━━\u001b[0m\u001b[37m\u001b[0m \u001b[1m3s\u001b[0m 50ms/step - accuracy: 0.8484 - loss: 0.4269 - val_accuracy: 0.8411 - val_loss: 0.4489\n",
      "Epoch 16/30\n",
      "\u001b[1m69/69\u001b[0m \u001b[32m━━━━━━━━━━━━━━━━━━━━\u001b[0m\u001b[37m\u001b[0m \u001b[1m4s\u001b[0m 51ms/step - accuracy: 0.8570 - loss: 0.3984 - val_accuracy: 0.8420 - val_loss: 0.4454\n",
      "Epoch 17/30\n",
      "\u001b[1m69/69\u001b[0m \u001b[32m━━━━━━━━━━━━━━━━━━━━\u001b[0m\u001b[37m\u001b[0m \u001b[1m4s\u001b[0m 51ms/step - accuracy: 0.8532 - loss: 0.4190 - val_accuracy: 0.8383 - val_loss: 0.4477\n",
      "Epoch 18/30\n",
      "\u001b[1m69/69\u001b[0m \u001b[32m━━━━━━━━━━━━━━━━━━━━\u001b[0m\u001b[37m\u001b[0m \u001b[1m4s\u001b[0m 52ms/step - accuracy: 0.8553 - loss: 0.4055 - val_accuracy: 0.8424 - val_loss: 0.4457\n",
      "Epoch 19/30\n",
      "\u001b[1m69/69\u001b[0m \u001b[32m━━━━━━━━━━━━━━━━━━━━\u001b[0m\u001b[37m\u001b[0m \u001b[1m4s\u001b[0m 51ms/step - accuracy: 0.8621 - loss: 0.3921 - val_accuracy: 0.8402 - val_loss: 0.4464\n",
      "Epoch 20/30\n",
      "\u001b[1m69/69\u001b[0m \u001b[32m━━━━━━━━━━━━━━━━━━━━\u001b[0m\u001b[37m\u001b[0m \u001b[1m3s\u001b[0m 50ms/step - accuracy: 0.8602 - loss: 0.3863 - val_accuracy: 0.8488 - val_loss: 0.4486\n",
      "Epoch 21/30\n",
      "\u001b[1m69/69\u001b[0m \u001b[32m━━━━━━━━━━━━━━━━━━━━\u001b[0m\u001b[37m\u001b[0m \u001b[1m3s\u001b[0m 50ms/step - accuracy: 0.8659 - loss: 0.3680 - val_accuracy: 0.8424 - val_loss: 0.4506\n",
      "Epoch 22/30\n",
      "\u001b[1m69/69\u001b[0m \u001b[32m━━━━━━━━━━━━━━━━━━━━\u001b[0m\u001b[37m\u001b[0m \u001b[1m3s\u001b[0m 50ms/step - accuracy: 0.8732 - loss: 0.3654 - val_accuracy: 0.8429 - val_loss: 0.4516\n",
      "Epoch 23/30\n",
      "\u001b[1m69/69\u001b[0m \u001b[32m━━━━━━━━━━━━━━━━━━━━\u001b[0m\u001b[37m\u001b[0m \u001b[1m3s\u001b[0m 50ms/step - accuracy: 0.8690 - loss: 0.3651 - val_accuracy: 0.8420 - val_loss: 0.4449\n",
      "Epoch 24/30\n",
      "\u001b[1m69/69\u001b[0m \u001b[32m━━━━━━━━━━━━━━━━━━━━\u001b[0m\u001b[37m\u001b[0m \u001b[1m4s\u001b[0m 52ms/step - accuracy: 0.8810 - loss: 0.3375 - val_accuracy: 0.8429 - val_loss: 0.4542\n",
      "Epoch 25/30\n",
      "\u001b[1m69/69\u001b[0m \u001b[32m━━━━━━━━━━━━━━━━━━━━\u001b[0m\u001b[37m\u001b[0m \u001b[1m4s\u001b[0m 52ms/step - accuracy: 0.8758 - loss: 0.3491 - val_accuracy: 0.8461 - val_loss: 0.4498\n",
      "Epoch 26/30\n",
      "\u001b[1m69/69\u001b[0m \u001b[32m━━━━━━━━━━━━━━━━━━━━\u001b[0m\u001b[37m\u001b[0m \u001b[1m3s\u001b[0m 51ms/step - accuracy: 0.8787 - loss: 0.3362 - val_accuracy: 0.8438 - val_loss: 0.4630\n",
      "Epoch 27/30\n",
      "\u001b[1m69/69\u001b[0m \u001b[32m━━━━━━━━━━━━━━━━━━━━\u001b[0m\u001b[37m\u001b[0m \u001b[1m4s\u001b[0m 51ms/step - accuracy: 0.8820 - loss: 0.3338 - val_accuracy: 0.8402 - val_loss: 0.4565\n",
      "Epoch 28/30\n",
      "\u001b[1m69/69\u001b[0m \u001b[32m━━━━━━━━━━━━━━━━━━━━\u001b[0m\u001b[37m\u001b[0m \u001b[1m4s\u001b[0m 51ms/step - accuracy: 0.8872 - loss: 0.3179 - val_accuracy: 0.8415 - val_loss: 0.4597\n",
      "Epoch 29/30\n",
      "\u001b[1m69/69\u001b[0m \u001b[32m━━━━━━━━━━━━━━━━━━━━\u001b[0m\u001b[37m\u001b[0m \u001b[1m4s\u001b[0m 51ms/step - accuracy: 0.8874 - loss: 0.3186 - val_accuracy: 0.8429 - val_loss: 0.4548\n",
      "Epoch 30/30\n",
      "\u001b[1m69/69\u001b[0m \u001b[32m━━━━━━━━━━━━━━━━━━━━\u001b[0m\u001b[37m\u001b[0m \u001b[1m4s\u001b[0m 51ms/step - accuracy: 0.8944 - loss: 0.2951 - val_accuracy: 0.8406 - val_loss: 0.4625\n"
     ]
    }
   ],
   "source": [
    "model = cm.build_model()\n",
    "\n",
    "# Shuffle data\n",
    "indices = np.arange(X_mel.shape[0])\n",
    "np.random.shuffle(indices)\n",
    "X_mel = X_mel[indices]\n",
    "X_ch  = X_ch[indices]\n",
    "y_ch  = y_ch[indices]\n",
    "\n",
    "history = model.fit(\n",
    "    x={'melody_input': X_mel, 'chord_input': X_ch},\n",
    "    y=y_ch,\n",
    "    epochs=30,\n",
    "    batch_size=128,\n",
    "    validation_split=0.2\n",
    ")"
   ]
  },
  {
   "cell_type": "code",
   "execution_count": 32,
   "metadata": {},
   "outputs": [],
   "source": [
    "def generate_chords(model, seed_melody, seed_chords=None,\n",
    "                    num_steps=100, temperature=1.0, int_to_chord=None):\n",
    "    \"\"\"\n",
    "    model: trained Keras model expecting {'melody_input':(1,L), 'chord_input':(1,L)}\n",
    "    seed_melody: array-like of ints, length = L\n",
    "    seed_chords: array-like of ints, length = L (if None, will be zeros)\n",
    "    \"\"\"\n",
    "    L = seed_melody.shape[0]\n",
    "    if seed_chords is None:\n",
    "        seed_chords = np.zeros(L, dtype=np.int32)\n",
    "\n",
    "    generated = []\n",
    "    melody_seq = seed_melody.tolist()\n",
    "    chord_seq  = seed_chords.tolist()\n",
    "\n",
    "    for _ in range(num_steps):\n",
    "        m_in = np.array([melody_seq[-L:]])  # shape (1, L)\n",
    "        c_in = np.array([chord_seq[-L:]])   # shape (1, L)\n",
    "\n",
    "        preds = model.predict({'melody_input': m_in, 'chord_input': c_in}, verbose=0)[0]\n",
    "        preds = np.log(preds + 1e-8) / temperature\n",
    "        exp_preds = np.exp(preds)\n",
    "        probs = exp_preds / np.sum(exp_preds)\n",
    "\n",
    "        next_chord_id = np.random.choice(range(probs.shape[-1]), p=probs)\n",
    "        generated.append(next_chord_id)\n",
    "        chord_seq.append(next_chord_id)\n",
    "\n",
    "    if int_to_chord is not None:\n",
    "        return [int_to_chord[i] for i in generated]\n",
    "    else:\n",
    "        return generated\n"
   ]
  },
  {
   "cell_type": "code",
   "execution_count": 33,
   "metadata": {},
   "outputs": [
    {
     "name": "stdout",
     "output_type": "stream",
     "text": [
      "Generated chord pitches (MIDI ints): [40, 43, 43, 36, 40, 43, 43, 38, 42, 45, 43, 47, 50, 36, 40, 43, 43, 47, 50, 45, 48, 52, 38, 42, 45, 48, 43, 47, 50, 36, 40, 43, 38, 42, 45, 48, 43, 47, 50, 43, 47, 50, 36, 40, 43, 38, 42, 45, 48, 43, 47, 50, 36, 40, 43, 38, 42, 45, 48, 43, 47, 50, 36, 40, 43, 43, 47, 50, 38, 42, 45, 43, 47, 50, 45, 48, 52, 38, 42, 45, 48, 43, 47, 50, 43, 47, 50, 45, 48, 52, 38, 42, 45, 48, 43, 47, 50, 43, 47, 50]\n"
     ]
    }
   ],
   "source": [
    "seed_melody = np.array(all_melody_ints[0][:sequence_length], dtype=np.int32)\n",
    "seed_chords = np.zeros(sequence_length, dtype=np.int32)  # initial “no-chord” context\n",
    "\n",
    "generated_chord_pitches = generate_chords(\n",
    "    model,\n",
    "    seed_melody,\n",
    "    seed_chords=seed_chords,\n",
    "    num_steps=100,\n",
    "    temperature=1.0,\n",
    "    int_to_chord=int_to_chord\n",
    ")\n",
    "\n",
    "print(\"Generated chord pitches (MIDI ints):\", generated_chord_pitches)"
   ]
  },
  {
   "cell_type": "code",
   "execution_count": 34,
   "metadata": {},
   "outputs": [
    {
     "name": "stdout",
     "output_type": "stream",
     "text": [
      "Written MIDI file → generated_harmonization.mid\n"
     ]
    }
   ],
   "source": [
    "import miditoolkit\n",
    "\n",
    "# 1) Map your generated chord‐IDs back to actual MIDI pitches\n",
    "#    (Here, int_to_chord[i] is already the MIDI pitch for chord-ID i.)\n",
    "generated_pitches = generated_chord_pitches  # e.g. [48, 55, 60, 55, …]\n",
    "\n",
    "# 2) Create a new MidiFile (default ticks_per_beat = 480)\n",
    "new_midi = miditoolkit.MidiFile()\n",
    "\n",
    "# 3) Create an Instrument to hold your chord notes\n",
    "#    program=0 → Acoustic Grand Piano (you can choose any program number)\n",
    "chord_instr = miditoolkit.Instrument(program=0, is_drum=False, name='Generated_Chords')\n",
    "\n",
    "# 4) Decide how long each chord lasts (in ticks). \n",
    "#    For example, 1 beat per chord → ticks_per_beat (usually 480)\n",
    "tpb = new_midi.ticks_per_beat\n",
    "ticks_per_chord = tpb\n",
    "\n",
    "# 5) For each pitch in generated_pitches, create a Note at the appropriate time\n",
    "for idx, pitch in enumerate(generated_pitches):\n",
    "    start_tick = idx * ticks_per_chord\n",
    "    end_tick   = start_tick + ticks_per_chord\n",
    "    # velocity=100 is a reasonable default\n",
    "    note = miditoolkit.Note(\n",
    "        velocity=100,\n",
    "        pitch=pitch,\n",
    "        start=start_tick,\n",
    "        end=end_tick\n",
    "    )\n",
    "    chord_instr.notes.append(note)\n",
    "\n",
    "# 6) Sort notes by start time (good practice)\n",
    "chord_instr.notes.sort(key=lambda n: n.start)\n",
    "\n",
    "# 7) Add the Instrument to the MidiFile\n",
    "new_midi.instruments.append(chord_instr)\n",
    "\n",
    "# 8) Write the result to disk\n",
    "output_path = 'generated_harmonization.mid'\n",
    "new_midi.dump(output_path)\n",
    "\n",
    "print(f\"Written MIDI file → {output_path}\")"
   ]
  }
 ],
 "metadata": {
  "kernelspec": {
   "display_name": "base",
   "language": "python",
   "name": "python3"
  },
  "language_info": {
   "codemirror_mode": {
    "name": "ipython",
    "version": 3
   },
   "file_extension": ".py",
   "mimetype": "text/x-python",
   "name": "python",
   "nbconvert_exporter": "python",
   "pygments_lexer": "ipython3",
   "version": "3.12.7"
  }
 },
 "nbformat": 4,
 "nbformat_minor": 2
}
