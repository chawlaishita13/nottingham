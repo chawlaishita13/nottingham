{
 "cells": [
  {
   "cell_type": "code",
   "execution_count": 1,
   "id": "ea167d19",
   "metadata": {},
   "outputs": [
    {
     "name": "stdout",
     "output_type": "stream",
     "text": [
      "Requirement already satisfied: tensorflow in ./venv/lib/python3.9/site-packages (2.19.0)\n",
      "Requirement already satisfied: absl-py>=1.0.0 in ./venv/lib/python3.9/site-packages (from tensorflow) (2.3.0)\n",
      "Requirement already satisfied: astunparse>=1.6.0 in ./venv/lib/python3.9/site-packages (from tensorflow) (1.6.3)\n",
      "Requirement already satisfied: flatbuffers>=24.3.25 in ./venv/lib/python3.9/site-packages (from tensorflow) (25.2.10)\n",
      "Requirement already satisfied: gast!=0.5.0,!=0.5.1,!=0.5.2,>=0.2.1 in ./venv/lib/python3.9/site-packages (from tensorflow) (0.6.0)\n",
      "Requirement already satisfied: google-pasta>=0.1.1 in ./venv/lib/python3.9/site-packages (from tensorflow) (0.2.0)\n",
      "Requirement already satisfied: libclang>=13.0.0 in ./venv/lib/python3.9/site-packages (from tensorflow) (18.1.1)\n",
      "Requirement already satisfied: opt-einsum>=2.3.2 in ./venv/lib/python3.9/site-packages (from tensorflow) (3.4.0)\n",
      "Requirement already satisfied: packaging in ./venv/lib/python3.9/site-packages (from tensorflow) (25.0)\n",
      "Requirement already satisfied: protobuf!=4.21.0,!=4.21.1,!=4.21.2,!=4.21.3,!=4.21.4,!=4.21.5,<6.0.0dev,>=3.20.3 in ./venv/lib/python3.9/site-packages (from tensorflow) (4.21.12)\n",
      "Requirement already satisfied: requests<3,>=2.21.0 in ./venv/lib/python3.9/site-packages (from tensorflow) (2.32.3)\n",
      "Requirement already satisfied: setuptools in ./venv/lib/python3.9/site-packages (from tensorflow) (58.0.4)\n",
      "Requirement already satisfied: six>=1.12.0 in ./venv/lib/python3.9/site-packages (from tensorflow) (1.17.0)\n",
      "Requirement already satisfied: termcolor>=1.1.0 in ./venv/lib/python3.9/site-packages (from tensorflow) (3.1.0)\n",
      "Requirement already satisfied: typing-extensions>=3.6.6 in ./venv/lib/python3.9/site-packages (from tensorflow) (4.13.2)\n",
      "Requirement already satisfied: wrapt>=1.11.0 in ./venv/lib/python3.9/site-packages (from tensorflow) (1.17.2)\n",
      "Requirement already satisfied: grpcio<2.0,>=1.24.3 in ./venv/lib/python3.9/site-packages (from tensorflow) (1.71.0)\n",
      "Requirement already satisfied: tensorboard~=2.19.0 in ./venv/lib/python3.9/site-packages (from tensorflow) (2.19.0)\n",
      "Requirement already satisfied: keras>=3.5.0 in ./venv/lib/python3.9/site-packages (from tensorflow) (3.10.0)\n",
      "Requirement already satisfied: numpy<2.2.0,>=1.26.0 in ./venv/lib/python3.9/site-packages (from tensorflow) (2.0.2)\n",
      "Requirement already satisfied: h5py>=3.11.0 in ./venv/lib/python3.9/site-packages (from tensorflow) (3.13.0)\n",
      "Requirement already satisfied: ml-dtypes<1.0.0,>=0.5.1 in ./venv/lib/python3.9/site-packages (from tensorflow) (0.5.1)\n",
      "Requirement already satisfied: tensorflow-io-gcs-filesystem>=0.23.1 in ./venv/lib/python3.9/site-packages (from tensorflow) (0.37.1)\n",
      "Requirement already satisfied: charset-normalizer<4,>=2 in ./venv/lib/python3.9/site-packages (from requests<3,>=2.21.0->tensorflow) (3.4.2)\n",
      "Requirement already satisfied: idna<4,>=2.5 in ./venv/lib/python3.9/site-packages (from requests<3,>=2.21.0->tensorflow) (3.10)\n",
      "Requirement already satisfied: urllib3<3,>=1.21.1 in ./venv/lib/python3.9/site-packages (from requests<3,>=2.21.0->tensorflow) (2.4.0)\n",
      "Requirement already satisfied: certifi>=2017.4.17 in ./venv/lib/python3.9/site-packages (from requests<3,>=2.21.0->tensorflow) (2025.4.26)\n",
      "Requirement already satisfied: markdown>=2.6.8 in ./venv/lib/python3.9/site-packages (from tensorboard~=2.19.0->tensorflow) (3.8)\n",
      "Requirement already satisfied: tensorboard-data-server<0.8.0,>=0.7.0 in ./venv/lib/python3.9/site-packages (from tensorboard~=2.19.0->tensorflow) (0.7.2)\n",
      "Requirement already satisfied: werkzeug>=1.0.1 in ./venv/lib/python3.9/site-packages (from tensorboard~=2.19.0->tensorflow) (3.1.3)\n",
      "Requirement already satisfied: wheel<1.0,>=0.23.0 in ./venv/lib/python3.9/site-packages (from astunparse>=1.6.0->tensorflow) (0.45.1)\n",
      "Requirement already satisfied: rich in ./venv/lib/python3.9/site-packages (from keras>=3.5.0->tensorflow) (14.0.0)\n",
      "Requirement already satisfied: namex in ./venv/lib/python3.9/site-packages (from keras>=3.5.0->tensorflow) (0.1.0)\n",
      "Requirement already satisfied: optree in ./venv/lib/python3.9/site-packages (from keras>=3.5.0->tensorflow) (0.16.0)\n",
      "Requirement already satisfied: importlib-metadata>=4.4 in ./venv/lib/python3.9/site-packages (from markdown>=2.6.8->tensorboard~=2.19.0->tensorflow) (8.7.0)\n",
      "Requirement already satisfied: zipp>=3.20 in ./venv/lib/python3.9/site-packages (from importlib-metadata>=4.4->markdown>=2.6.8->tensorboard~=2.19.0->tensorflow) (3.22.0)\n",
      "Requirement already satisfied: MarkupSafe>=2.1.1 in ./venv/lib/python3.9/site-packages (from werkzeug>=1.0.1->tensorboard~=2.19.0->tensorflow) (3.0.2)\n",
      "Requirement already satisfied: markdown-it-py>=2.2.0 in ./venv/lib/python3.9/site-packages (from rich->keras>=3.5.0->tensorflow) (3.0.0)\n",
      "Requirement already satisfied: pygments<3.0.0,>=2.13.0 in ./venv/lib/python3.9/site-packages (from rich->keras>=3.5.0->tensorflow) (2.19.1)\n",
      "Requirement already satisfied: mdurl~=0.1 in ./venv/lib/python3.9/site-packages (from markdown-it-py>=2.2.0->rich->keras>=3.5.0->tensorflow) (0.1.2)\n"
     ]
    }
   ],
   "source": [
    "!pip install tensorflow"
   ]
  },
  {
   "cell_type": "code",
   "execution_count": 15,
   "id": "2e44a2b7",
   "metadata": {},
   "outputs": [
    {
     "name": "stdout",
     "output_type": "stream",
     "text": [
      "============================================================\n",
      "Lightweight MIDI Music Generation for Assignment\n",
      "============================================================\n",
      "\n",
      "1. PREPROCESSING...\n",
      "Processing MIDI files...\n",
      "Using random sample of 30 files for faster training\n",
      "Found 30 MIDI files\n",
      "Processed 10/30 files\n",
      "Processed 20/30 files\n",
      "Processed 30/30 files\n",
      "Extracted 9251 notes from 30 files\n",
      "Vocabulary size: 44 (MIDI range: 36-84)\n",
      "Created 769 training sequences\n",
      "\n",
      "2. TRAINING...\n",
      "Lightweight model built successfully!\n",
      "Total parameters: 112,748\n"
     ]
    },
    {
     "name": "stderr",
     "output_type": "stream",
     "text": [
      "/Users/ishetabansal/Documents/CSE253/Assignment2/venv/lib/python3.9/site-packages/pretty_midi/pretty_midi.py:100: RuntimeWarning: Tempo, Key or Time signature change events found on non-zero tracks.  This is not a valid type 0 or type 1 MIDI file.  Tempo, Key or Time Signature may be wrong.\n",
      "  warnings.warn(\n",
      "/Users/ishetabansal/Documents/CSE253/Assignment2/venv/lib/python3.9/site-packages/keras/src/layers/core/embedding.py:97: UserWarning: Argument `input_length` is deprecated. Just remove it.\n",
      "  warnings.warn(\n"
     ]
    },
    {
     "data": {
      "text/html": [
       "<pre style=\"white-space:pre;overflow-x:auto;line-height:normal;font-family:Menlo,'DejaVu Sans Mono',consolas,'Courier New',monospace\"><span style=\"font-weight: bold\">Model: \"sequential_1\"</span>\n",
       "</pre>\n"
      ],
      "text/plain": [
       "\u001b[1mModel: \"sequential_1\"\u001b[0m\n"
      ]
     },
     "metadata": {},
     "output_type": "display_data"
    },
    {
     "data": {
      "text/html": [
       "<pre style=\"white-space:pre;overflow-x:auto;line-height:normal;font-family:Menlo,'DejaVu Sans Mono',consolas,'Courier New',monospace\">┏━━━━━━━━━━━━━━━━━━━━━━━━━━━━━━━━━┳━━━━━━━━━━━━━━━━━━━━━━━━┳━━━━━━━━━━━━━━━┓\n",
       "┃<span style=\"font-weight: bold\"> Layer (type)                    </span>┃<span style=\"font-weight: bold\"> Output Shape           </span>┃<span style=\"font-weight: bold\">       Param # </span>┃\n",
       "┡━━━━━━━━━━━━━━━━━━━━━━━━━━━━━━━━━╇━━━━━━━━━━━━━━━━━━━━━━━━╇━━━━━━━━━━━━━━━┩\n",
       "│ embedding_1 (<span style=\"color: #0087ff; text-decoration-color: #0087ff\">Embedding</span>)         │ (<span style=\"color: #00d7ff; text-decoration-color: #00d7ff\">None</span>, <span style=\"color: #00af00; text-decoration-color: #00af00\">25</span>, <span style=\"color: #00af00; text-decoration-color: #00af00\">64</span>)         │         <span style=\"color: #00af00; text-decoration-color: #00af00\">2,816</span> │\n",
       "├─────────────────────────────────┼────────────────────────┼───────────────┤\n",
       "│ lstm_1 (<span style=\"color: #0087ff; text-decoration-color: #0087ff\">LSTM</span>)                   │ (<span style=\"color: #00d7ff; text-decoration-color: #00d7ff\">None</span>, <span style=\"color: #00af00; text-decoration-color: #00af00\">128</span>)            │        <span style=\"color: #00af00; text-decoration-color: #00af00\">98,816</span> │\n",
       "├─────────────────────────────────┼────────────────────────┼───────────────┤\n",
       "│ dense_2 (<span style=\"color: #0087ff; text-decoration-color: #0087ff\">Dense</span>)                 │ (<span style=\"color: #00d7ff; text-decoration-color: #00d7ff\">None</span>, <span style=\"color: #00af00; text-decoration-color: #00af00\">64</span>)             │         <span style=\"color: #00af00; text-decoration-color: #00af00\">8,256</span> │\n",
       "├─────────────────────────────────┼────────────────────────┼───────────────┤\n",
       "│ dropout_1 (<span style=\"color: #0087ff; text-decoration-color: #0087ff\">Dropout</span>)             │ (<span style=\"color: #00d7ff; text-decoration-color: #00d7ff\">None</span>, <span style=\"color: #00af00; text-decoration-color: #00af00\">64</span>)             │             <span style=\"color: #00af00; text-decoration-color: #00af00\">0</span> │\n",
       "├─────────────────────────────────┼────────────────────────┼───────────────┤\n",
       "│ dense_3 (<span style=\"color: #0087ff; text-decoration-color: #0087ff\">Dense</span>)                 │ (<span style=\"color: #00d7ff; text-decoration-color: #00d7ff\">None</span>, <span style=\"color: #00af00; text-decoration-color: #00af00\">44</span>)             │         <span style=\"color: #00af00; text-decoration-color: #00af00\">2,860</span> │\n",
       "└─────────────────────────────────┴────────────────────────┴───────────────┘\n",
       "</pre>\n"
      ],
      "text/plain": [
       "┏━━━━━━━━━━━━━━━━━━━━━━━━━━━━━━━━━┳━━━━━━━━━━━━━━━━━━━━━━━━┳━━━━━━━━━━━━━━━┓\n",
       "┃\u001b[1m \u001b[0m\u001b[1mLayer (type)                   \u001b[0m\u001b[1m \u001b[0m┃\u001b[1m \u001b[0m\u001b[1mOutput Shape          \u001b[0m\u001b[1m \u001b[0m┃\u001b[1m \u001b[0m\u001b[1m      Param #\u001b[0m\u001b[1m \u001b[0m┃\n",
       "┡━━━━━━━━━━━━━━━━━━━━━━━━━━━━━━━━━╇━━━━━━━━━━━━━━━━━━━━━━━━╇━━━━━━━━━━━━━━━┩\n",
       "│ embedding_1 (\u001b[38;5;33mEmbedding\u001b[0m)         │ (\u001b[38;5;45mNone\u001b[0m, \u001b[38;5;34m25\u001b[0m, \u001b[38;5;34m64\u001b[0m)         │         \u001b[38;5;34m2,816\u001b[0m │\n",
       "├─────────────────────────────────┼────────────────────────┼───────────────┤\n",
       "│ lstm_1 (\u001b[38;5;33mLSTM\u001b[0m)                   │ (\u001b[38;5;45mNone\u001b[0m, \u001b[38;5;34m128\u001b[0m)            │        \u001b[38;5;34m98,816\u001b[0m │\n",
       "├─────────────────────────────────┼────────────────────────┼───────────────┤\n",
       "│ dense_2 (\u001b[38;5;33mDense\u001b[0m)                 │ (\u001b[38;5;45mNone\u001b[0m, \u001b[38;5;34m64\u001b[0m)             │         \u001b[38;5;34m8,256\u001b[0m │\n",
       "├─────────────────────────────────┼────────────────────────┼───────────────┤\n",
       "│ dropout_1 (\u001b[38;5;33mDropout\u001b[0m)             │ (\u001b[38;5;45mNone\u001b[0m, \u001b[38;5;34m64\u001b[0m)             │             \u001b[38;5;34m0\u001b[0m │\n",
       "├─────────────────────────────────┼────────────────────────┼───────────────┤\n",
       "│ dense_3 (\u001b[38;5;33mDense\u001b[0m)                 │ (\u001b[38;5;45mNone\u001b[0m, \u001b[38;5;34m44\u001b[0m)             │         \u001b[38;5;34m2,860\u001b[0m │\n",
       "└─────────────────────────────────┴────────────────────────┴───────────────┘\n"
      ]
     },
     "metadata": {},
     "output_type": "display_data"
    },
    {
     "data": {
      "text/html": [
       "<pre style=\"white-space:pre;overflow-x:auto;line-height:normal;font-family:Menlo,'DejaVu Sans Mono',consolas,'Courier New',monospace\"><span style=\"font-weight: bold\"> Total params: </span><span style=\"color: #00af00; text-decoration-color: #00af00\">112,748</span> (440.42 KB)\n",
       "</pre>\n"
      ],
      "text/plain": [
       "\u001b[1m Total params: \u001b[0m\u001b[38;5;34m112,748\u001b[0m (440.42 KB)\n"
      ]
     },
     "metadata": {},
     "output_type": "display_data"
    },
    {
     "data": {
      "text/html": [
       "<pre style=\"white-space:pre;overflow-x:auto;line-height:normal;font-family:Menlo,'DejaVu Sans Mono',consolas,'Courier New',monospace\"><span style=\"font-weight: bold\"> Trainable params: </span><span style=\"color: #00af00; text-decoration-color: #00af00\">112,748</span> (440.42 KB)\n",
       "</pre>\n"
      ],
      "text/plain": [
       "\u001b[1m Trainable params: \u001b[0m\u001b[38;5;34m112,748\u001b[0m (440.42 KB)\n"
      ]
     },
     "metadata": {},
     "output_type": "display_data"
    },
    {
     "data": {
      "text/html": [
       "<pre style=\"white-space:pre;overflow-x:auto;line-height:normal;font-family:Menlo,'DejaVu Sans Mono',consolas,'Courier New',monospace\"><span style=\"font-weight: bold\"> Non-trainable params: </span><span style=\"color: #00af00; text-decoration-color: #00af00\">0</span> (0.00 B)\n",
       "</pre>\n"
      ],
      "text/plain": [
       "\u001b[1m Non-trainable params: \u001b[0m\u001b[38;5;34m0\u001b[0m (0.00 B)\n"
      ]
     },
     "metadata": {},
     "output_type": "display_data"
    },
    {
     "name": "stdout",
     "output_type": "stream",
     "text": [
      "None\n",
      "Starting lightweight training...\n",
      "Epoch 1/15\n",
      "\u001b[1m6/6\u001b[0m \u001b[32m━━━━━━━━━━━━━━━━━━━━\u001b[0m\u001b[37m\u001b[0m \u001b[1m1s\u001b[0m 47ms/step - accuracy: 0.0614 - loss: 3.6032 - val_accuracy: 0.1121 - val_loss: 3.2823 - learning_rate: 0.0100\n",
      "Epoch 2/15\n",
      "\u001b[1m6/6\u001b[0m \u001b[32m━━━━━━━━━━━━━━━━━━━━\u001b[0m\u001b[37m\u001b[0m \u001b[1m0s\u001b[0m 16ms/step - accuracy: 0.1369 - loss: 2.9875 - val_accuracy: 0.1466 - val_loss: 2.9002 - learning_rate: 0.0100\n",
      "Epoch 3/15\n",
      "\u001b[1m6/6\u001b[0m \u001b[32m━━━━━━━━━━━━━━━━━━━━\u001b[0m\u001b[37m\u001b[0m \u001b[1m0s\u001b[0m 16ms/step - accuracy: 0.1612 - loss: 2.6720 - val_accuracy: 0.1121 - val_loss: 2.7352 - learning_rate: 0.0100\n",
      "Epoch 4/15\n",
      "\u001b[1m6/6\u001b[0m \u001b[32m━━━━━━━━━━━━━━━━━━━━\u001b[0m\u001b[37m\u001b[0m \u001b[1m0s\u001b[0m 16ms/step - accuracy: 0.1854 - loss: 2.5277 - val_accuracy: 0.1552 - val_loss: 2.6501 - learning_rate: 0.0100\n",
      "Epoch 5/15\n",
      "\u001b[1m6/6\u001b[0m \u001b[32m━━━━━━━━━━━━━━━━━━━━\u001b[0m\u001b[37m\u001b[0m \u001b[1m0s\u001b[0m 16ms/step - accuracy: 0.2164 - loss: 2.3447 - val_accuracy: 0.1897 - val_loss: 2.4443 - learning_rate: 0.0100\n",
      "Epoch 6/15\n",
      "\u001b[1m6/6\u001b[0m \u001b[32m━━━━━━━━━━━━━━━━━━━━\u001b[0m\u001b[37m\u001b[0m \u001b[1m0s\u001b[0m 17ms/step - accuracy: 0.2853 - loss: 2.1917 - val_accuracy: 0.2672 - val_loss: 2.3139 - learning_rate: 0.0100\n",
      "Epoch 7/15\n",
      "\u001b[1m6/6\u001b[0m \u001b[32m━━━━━━━━━━━━━━━━━━━━\u001b[0m\u001b[37m\u001b[0m \u001b[1m0s\u001b[0m 17ms/step - accuracy: 0.3406 - loss: 2.0416 - val_accuracy: 0.3190 - val_loss: 2.2477 - learning_rate: 0.0100\n",
      "Epoch 8/15\n",
      "\u001b[1m6/6\u001b[0m \u001b[32m━━━━━━━━━━━━━━━━━━━━\u001b[0m\u001b[37m\u001b[0m \u001b[1m0s\u001b[0m 17ms/step - accuracy: 0.4237 - loss: 1.8573 - val_accuracy: 0.3621 - val_loss: 2.1590 - learning_rate: 0.0100\n",
      "Epoch 9/15\n",
      "\u001b[1m6/6\u001b[0m \u001b[32m━━━━━━━━━━━━━━━━━━━━\u001b[0m\u001b[37m\u001b[0m \u001b[1m0s\u001b[0m 17ms/step - accuracy: 0.4743 - loss: 1.7165 - val_accuracy: 0.3707 - val_loss: 2.1356 - learning_rate: 0.0100\n",
      "Epoch 10/15\n",
      "\u001b[1m6/6\u001b[0m \u001b[32m━━━━━━━━━━━━━━━━━━━━\u001b[0m\u001b[37m\u001b[0m \u001b[1m0s\u001b[0m 18ms/step - accuracy: 0.4856 - loss: 1.6237 - val_accuracy: 0.3621 - val_loss: 2.0990 - learning_rate: 0.0100\n",
      "Epoch 11/15\n",
      "\u001b[1m6/6\u001b[0m \u001b[32m━━━━━━━━━━━━━━━━━━━━\u001b[0m\u001b[37m\u001b[0m \u001b[1m0s\u001b[0m 18ms/step - accuracy: 0.5134 - loss: 1.4988 - val_accuracy: 0.3534 - val_loss: 2.1313 - learning_rate: 0.0100\n",
      "Epoch 12/15\n",
      "\u001b[1m6/6\u001b[0m \u001b[32m━━━━━━━━━━━━━━━━━━━━\u001b[0m\u001b[37m\u001b[0m \u001b[1m0s\u001b[0m 19ms/step - accuracy: 0.5309 - loss: 1.4585 - val_accuracy: 0.3362 - val_loss: 2.2106 - learning_rate: 0.0100\n",
      "Epoch 13/15\n",
      "\u001b[1m6/6\u001b[0m \u001b[32m━━━━━━━━━━━━━━━━━━━━\u001b[0m\u001b[37m\u001b[0m \u001b[1m0s\u001b[0m 20ms/step - accuracy: 0.5638 - loss: 1.3918 - val_accuracy: 0.3534 - val_loss: 2.1585 - learning_rate: 0.0100\n",
      "Epoch 14/15\n",
      "\u001b[1m6/6\u001b[0m \u001b[32m━━━━━━━━━━━━━━━━━━━━\u001b[0m\u001b[37m\u001b[0m \u001b[1m0s\u001b[0m 19ms/step - accuracy: 0.5587 - loss: 1.3733 - val_accuracy: 0.3103 - val_loss: 2.2629 - learning_rate: 0.0070\n",
      "Epoch 15/15\n",
      "\u001b[1m6/6\u001b[0m \u001b[32m━━━━━━━━━━━━━━━━━━━━\u001b[0m\u001b[37m\u001b[0m \u001b[1m0s\u001b[0m 18ms/step - accuracy: 0.5902 - loss: 1.2588 - val_accuracy: 0.3534 - val_loss: 2.2453 - learning_rate: 0.0070\n"
     ]
    },
    {
     "data": {
      "image/png": "[encoded data removed]",
      "text/plain": [
       "<Figure size 1200x400 with 2 Axes>"
      ]
     },
     "metadata": {},
     "output_type": "display_data"
    },
    {
     "name": "stderr",
     "output_type": "stream",
     "text": [
      "WARNING:absl:You are saving your model as an HDF5 file via `model.save()` or `keras.saving.save_model(model)`. This file format is considered legacy. We recommend using instead the native Keras format, e.g. `model.save('my_model.keras')` or `keras.saving.save_model(model, 'my_model.keras')`. \n"
     ]
    },
    {
     "name": "stdout",
     "output_type": "stream",
     "text": [
      "Model data saved to lightweight_midi_lstm_data.pkl\n",
      "\n",
      "3. GENERATING MUSIC...\n",
      "Generating 180 notes...\n",
      "Generated 0/180 notes...\n",
      "Generated 50/180 notes...\n",
      "Generated 100/180 notes...\n",
      "Generated 150/180 notes...\n",
      "Music generation completed!\n",
      "MIDI file saved as symbolic_unconditioned2.mid\n",
      "Generating 60 notes...\n",
      "Generated 0/60 notes...\n",
      "Generated 50/60 notes...\n",
      "Music generation completed!\n",
      "MIDI file saved as generated_music_short2.mid\n",
      "\n",
      "✅ Lightweight music generation completed!\n",
      "📁 Files generated:\n",
      "   - symbolic_unconditioned.mid (for assignment submission)\n",
      "   - generated_music_short.mid (test sample)\n",
      "   - lightweight_midi_lstm.h5 (trained model)\n",
      "\n",
      "📊 Statistics:\n",
      "   - Training samples: 769\n",
      "   - Vocabulary size: 44\n",
      "   - Model parameters: 112,748\n",
      "   - Training epochs: 15\n"
     ]
    }
   ],
   "source": [
    "import tensorflow as tf\n",
    "from tensorflow import keras\n",
    "import numpy as np\n",
    "import glob\n",
    "import pickle\n",
    "import random\n",
    "import matplotlib.pyplot as plt\n",
    "from collections import Counter\n",
    "\n",
    "# For MIDI processing\n",
    "try:\n",
    "    import pretty_midi\n",
    "except ImportError:\n",
    "    print(\"Installing pretty_midi...\")\n",
    "    import subprocess\n",
    "    subprocess.check_call([\"pip\", \"install\", \"pretty_midi\"])\n",
    "    import pretty_midi\n",
    "\n",
    "# Set random seeds for reproducibility\n",
    "seed = 42\n",
    "tf.random.set_seed(seed)\n",
    "np.random.seed(seed)\n",
    "\n",
    "class LightweightMidiLSTM:\n",
    "    def __init__(self, sequence_length=25, embedding_dim=64, lstm_units=128, \n",
    "                 dropout_rate=0.2, max_notes=1000):\n",
    "        \"\"\"Lightweight LSTM for faster training\"\"\"\n",
    "        self.sequence_length = sequence_length  # Reduced from 50\n",
    "        self.embedding_dim = embedding_dim      # Reduced from 256\n",
    "        self.lstm_units = lstm_units           # Reduced from 512\n",
    "        self.dropout_rate = dropout_rate\n",
    "        self.max_notes = max_notes             # Limit notes per file\n",
    "        \n",
    "        self.model = None\n",
    "        self.vocab_size = None\n",
    "        self.note_to_int = {}\n",
    "        self.int_to_note = {}\n",
    "        \n",
    "    def preprocess_midi_files(self, midi_dir_path, max_files=50):\n",
    "        \"\"\"Extract notes from MIDI files with limits for faster processing\"\"\"\n",
    "        print(\"Processing MIDI files...\")\n",
    "        \n",
    "        # Get MIDI files\n",
    "        midi_files = glob.glob(f\"{midi_dir_path}/*.mid\") + glob.glob(f\"{midi_dir_path}/*.midi\")\n",
    "        \n",
    "        # Limit number of files for faster processing\n",
    "        if len(midi_files) > max_files:\n",
    "            midi_files = random.sample(midi_files, max_files)\n",
    "            print(f\"Using random sample of {max_files} files for faster training\")\n",
    "        \n",
    "        print(f\"Found {len(midi_files)} MIDI files\")\n",
    "        \n",
    "        notes = []\n",
    "        processed_files = 0\n",
    "        \n",
    "        for file_path in midi_files:\n",
    "            try:\n",
    "                midi = pretty_midi.PrettyMIDI(file_path)\n",
    "                file_notes = []\n",
    "                \n",
    "                # Extract notes from all instruments\n",
    "                for instrument in midi.instruments:\n",
    "                    if not instrument.is_drum:\n",
    "                        for note in instrument.notes:\n",
    "                            # Simplified note representation: just pitch\n",
    "                            file_notes.append(note.pitch)\n",
    "                \n",
    "                # Limit notes per file\n",
    "                if len(file_notes) > self.max_notes:\n",
    "                    file_notes = file_notes[:self.max_notes]\n",
    "                \n",
    "                notes.extend(file_notes)\n",
    "                processed_files += 1\n",
    "                \n",
    "                if processed_files % 10 == 0:\n",
    "                    print(f\"Processed {processed_files}/{len(midi_files)} files\")\n",
    "                    \n",
    "            except Exception as e:\n",
    "                print(f\"Error processing {file_path}: {e}\")\n",
    "                continue\n",
    "        \n",
    "        print(f\"Extracted {len(notes)} notes from {processed_files} files\")\n",
    "        return notes\n",
    "    \n",
    "    def create_vocabulary(self, notes):\n",
    "        \"\"\"Create simplified note vocabulary\"\"\"\n",
    "        # Filter to common MIDI range (36-84) for smaller vocabulary\n",
    "        filtered_notes = [note for note in notes if 36 <= note <= 84]\n",
    "        \n",
    "        unique_notes = sorted(set(filtered_notes))\n",
    "        self.vocab_size = len(unique_notes)\n",
    "        \n",
    "        self.note_to_int = {note: i for i, note in enumerate(unique_notes)}\n",
    "        self.int_to_note = {i: note for i, note in enumerate(unique_notes)}\n",
    "        \n",
    "        print(f\"Vocabulary size: {self.vocab_size} (MIDI range: {min(unique_notes)}-{max(unique_notes)})\")\n",
    "        return filtered_notes\n",
    "    \n",
    "    def create_sequences(self, notes):\n",
    "        \"\"\"Create training sequences\"\"\"\n",
    "        # Convert notes to integers\n",
    "        note_ints = [self.note_to_int.get(note, 0) for note in notes if note in self.note_to_int]\n",
    "        \n",
    "        # Create sequences\n",
    "        sequences = []\n",
    "        targets = []\n",
    "        \n",
    "        # Use smaller step size for more training data\n",
    "        step_size = self.sequence_length // 2\n",
    "        \n",
    "        for i in range(0, len(note_ints) - self.sequence_length, step_size):\n",
    "            sequence = note_ints[i:i + self.sequence_length]\n",
    "            target = note_ints[i + self.sequence_length]\n",
    "            sequences.append(sequence)\n",
    "            targets.append(target)\n",
    "        \n",
    "        print(f\"Created {len(sequences)} training sequences\")\n",
    "        \n",
    "        X = np.array(sequences)\n",
    "        y = tf.keras.utils.to_categorical(targets, num_classes=self.vocab_size)\n",
    "        \n",
    "        return X, y\n",
    "    \n",
    "    def build_model(self):\n",
    "        \"\"\"Build lightweight LSTM model\"\"\"\n",
    "        model = keras.Sequential([\n",
    "            # Smaller embedding layer\n",
    "            keras.layers.Embedding(\n",
    "                input_dim=self.vocab_size,\n",
    "                output_dim=self.embedding_dim,\n",
    "                input_length=self.sequence_length\n",
    "            ),\n",
    "            \n",
    "            # Single LSTM layer (instead of multiple)\n",
    "            keras.layers.LSTM(\n",
    "                self.lstm_units,\n",
    "                dropout=self.dropout_rate,\n",
    "                recurrent_dropout=self.dropout_rate\n",
    "            ),\n",
    "            \n",
    "            # Smaller dense layer\n",
    "            keras.layers.Dense(self.lstm_units // 2, activation='relu'),\n",
    "            keras.layers.Dropout(self.dropout_rate),\n",
    "            keras.layers.Dense(self.vocab_size, activation='softmax')\n",
    "        ])\n",
    "        \n",
    "        # Use simpler optimizer settings\n",
    "        model.compile(\n",
    "            optimizer=keras.optimizers.Adam(learning_rate=0.01),  # Higher LR for faster training\n",
    "            loss='categorical_crossentropy',\n",
    "            metrics=['accuracy']\n",
    "        )\n",
    "        \n",
    "        # Build the model explicitly before calling count_params\n",
    "        model.build(input_shape=(None, self.sequence_length))\n",
    "        \n",
    "        self.model = model\n",
    "        print(\"Lightweight model built successfully!\")\n",
    "        print(f\"Total parameters: {model.count_params():,}\")\n",
    "        print(model.summary())\n",
    "        \n",
    "        return model\n",
    "\n",
    "    def train_model(self, X, y, epochs=20, batch_size=128, validation_split=0.2):\n",
    "        \"\"\"Train with settings optimized for speed\"\"\"\n",
    "        print(\"Starting lightweight training...\")\n",
    "        \n",
    "        # Callbacks for faster training\n",
    "        callbacks = [\n",
    "            keras.callbacks.EarlyStopping(\n",
    "                monitor='val_loss',\n",
    "                patience=5,  # Reduced patience\n",
    "                restore_best_weights=True\n",
    "            ),\n",
    "            keras.callbacks.ReduceLROnPlateau(\n",
    "                monitor='val_loss',\n",
    "                factor=0.7,\n",
    "                patience=3,\n",
    "                min_lr=1e-6\n",
    "            )\n",
    "        ]\n",
    "        \n",
    "        # Train the model\n",
    "        history = self.model.fit(\n",
    "            X, y,\n",
    "            epochs=epochs,\n",
    "            batch_size=batch_size,\n",
    "            validation_split=validation_split,\n",
    "            callbacks=callbacks,\n",
    "            verbose=1\n",
    "        )\n",
    "        \n",
    "        # Plot training history\n",
    "        self.plot_training_history(history)\n",
    "        \n",
    "        return history\n",
    "    \n",
    "    def plot_training_history(self, history):\n",
    "        \"\"\"Plot training metrics\"\"\"\n",
    "        fig, (ax1, ax2) = plt.subplots(1, 2, figsize=(12, 4))\n",
    "        \n",
    "        # Plot loss\n",
    "        ax1.plot(history.history['loss'], label='Training Loss')\n",
    "        ax1.plot(history.history['val_loss'], label='Validation Loss')\n",
    "        ax1.set_title('Model Loss')\n",
    "        ax1.set_xlabel('Epoch')\n",
    "        ax1.set_ylabel('Loss')\n",
    "        ax1.legend()\n",
    "        \n",
    "        # Plot accuracy\n",
    "        ax2.plot(history.history['accuracy'], label='Training Accuracy')\n",
    "        ax2.plot(history.history['val_accuracy'], label='Validation Accuracy')\n",
    "        ax2.set_title('Model Accuracy')\n",
    "        ax2.set_xlabel('Epoch')\n",
    "        ax2.set_ylabel('Accuracy')\n",
    "        ax2.legend()\n",
    "        \n",
    "        plt.tight_layout()\n",
    "        plt.show()\n",
    "    \n",
    "    def generate_music(self, num_notes=200, temperature=1.0, seed_sequence=None):\n",
    "        \"\"\"Generate music sequence\"\"\"\n",
    "        if self.model is None:\n",
    "            raise ValueError(\"Model not trained yet!\")\n",
    "        \n",
    "        # Create seed sequence\n",
    "        if seed_sequence is None:\n",
    "            # Start with random notes from vocabulary\n",
    "            seed_sequence = np.random.choice(\n",
    "                list(self.int_to_note.keys()), \n",
    "                size=self.sequence_length\n",
    "            )\n",
    "        \n",
    "        generated_notes = []\n",
    "        current_sequence = list(seed_sequence)\n",
    "        \n",
    "        print(f\"Generating {num_notes} notes...\")\n",
    "        \n",
    "        for i in range(num_notes):\n",
    "            # Prepare input\n",
    "            input_sequence = np.array(current_sequence[-self.sequence_length:]).reshape(1, -1)\n",
    "            \n",
    "            # Predict next note\n",
    "            prediction = self.model.predict(input_sequence, verbose=0)[0]\n",
    "            \n",
    "            # Apply temperature\n",
    "            prediction = np.log(prediction + 1e-7) / temperature\n",
    "            prediction = np.exp(prediction) / np.sum(np.exp(prediction))\n",
    "            \n",
    "            # Sample next note\n",
    "            next_note_int = np.random.choice(len(prediction), p=prediction)\n",
    "            next_note = self.int_to_note[next_note_int]\n",
    "            \n",
    "            generated_notes.append(next_note)\n",
    "            current_sequence.append(next_note_int)\n",
    "            \n",
    "            if i % 50 == 0:\n",
    "                print(f\"Generated {i}/{num_notes} notes...\")\n",
    "        \n",
    "        print(\"Music generation completed!\")\n",
    "        return generated_notes\n",
    "    \n",
    "    def notes_to_midi(self, notes, output_file='generated_music.mid', tempo=120):\n",
    "        \"\"\"Convert notes to MIDI file\"\"\"\n",
    "        # Create a PrettyMIDI object\n",
    "        midi = pretty_midi.PrettyMIDI(initial_tempo=tempo)\n",
    "        \n",
    "        # Create an instrument (piano)\n",
    "        piano = pretty_midi.Instrument(program=1)\n",
    "        \n",
    "        # Add notes\n",
    "        current_time = 0.0\n",
    "        note_duration = 0.5  # Default duration\n",
    "        \n",
    "        for pitch in notes:\n",
    "            note = pretty_midi.Note(\n",
    "                velocity=80,\n",
    "                pitch=int(pitch),\n",
    "                start=current_time,\n",
    "                end=current_time + note_duration\n",
    "            )\n",
    "            piano.notes.append(note)\n",
    "            current_time += note_duration\n",
    "        \n",
    "        midi.instruments.append(piano)\n",
    "        midi.write(output_file)\n",
    "        print(f\"MIDI file saved as {output_file}\")\n",
    "    \n",
    "    def save_model_data(self, filepath='lightweight_midi_lstm_data.pkl'):\n",
    "        \"\"\"Save model data\"\"\"\n",
    "        data = {\n",
    "            'note_to_int': self.note_to_int,\n",
    "            'int_to_note': self.int_to_note,\n",
    "            'vocab_size': self.vocab_size,\n",
    "            'sequence_length': self.sequence_length,\n",
    "            'embedding_dim': self.embedding_dim,\n",
    "            'lstm_units': self.lstm_units,\n",
    "            'dropout_rate': self.dropout_rate\n",
    "        }\n",
    "        \n",
    "        with open(filepath, 'wb') as f:\n",
    "            pickle.dump(data, f)\n",
    "        print(f\"Model data saved to {filepath}\")\n",
    "\n",
    "# Main function optimized for speed\n",
    "def main():\n",
    "    print(\"=\" * 60)\n",
    "    print(\"Lightweight MIDI Music Generation for Assignment\")\n",
    "    print(\"=\" * 60)\n",
    "    \n",
    "    # Initialize lightweight model\n",
    "    midi_lstm = LightweightMidiLSTM(\n",
    "        sequence_length=25,    # Reduced for speed\n",
    "        embedding_dim=64,      # Much smaller\n",
    "        lstm_units=128,        # Much smaller\n",
    "        dropout_rate=0.2,      # Less aggressive dropout\n",
    "        max_notes=500          # Limit notes per file\n",
    "    )\n",
    "    \n",
    "    # 1. PREPROCESSING (with limits for speed)\n",
    "    print(\"\\n1. PREPROCESSING...\")\n",
    "    notes = midi_lstm.preprocess_midi_files(\n",
    "        \"nottingham-dataset/MIDI\", \n",
    "        max_files=30  # Limit files for faster processing\n",
    "    )\n",
    "    \n",
    "    # Create vocabulary\n",
    "    filtered_notes = midi_lstm.create_vocabulary(notes)\n",
    "    \n",
    "    # Create training sequences\n",
    "    X, y = midi_lstm.create_sequences(filtered_notes)\n",
    "    \n",
    "    # 2. TRAINING (reduced epochs for speed)\n",
    "    print(\"\\n2. TRAINING...\")\n",
    "    midi_lstm.build_model()\n",
    "    \n",
    "    # Quick training with fewer epochs\n",
    "    history = midi_lstm.train_model(\n",
    "        X, y, \n",
    "        epochs=15,        # Reduced from 100\n",
    "        batch_size=128,   # Larger batch for speed\n",
    "        validation_split=0.15\n",
    "    )\n",
    "    \n",
    "    # Save model\n",
    "    midi_lstm.model.save('lightweight_midi_lstm.h5')\n",
    "    midi_lstm.save_model_data()\n",
    "    \n",
    "    # 3. GENERATION\n",
    "    print(\"\\n3. GENERATING MUSIC...\")\n",
    "    \n",
    "    # Generate for assignment submission\n",
    "    generated_notes_90sec = midi_lstm.generate_music(\n",
    "        num_notes=180,  # ~90 seconds at 120 BPM\n",
    "        temperature=0.8\n",
    "    )\n",
    "    \n",
    "    # Save as MIDI for assignment\n",
    "    midi_lstm.notes_to_midi(\n",
    "        generated_notes_90sec, \n",
    "        'symbolic_unconditioned2.mid',  # Assignment filename\n",
    "        tempo=120\n",
    "    )\n",
    "    \n",
    "    # Generate a shorter sample for testing\n",
    "    generated_notes_short = midi_lstm.generate_music(\n",
    "        num_notes=60,\n",
    "        temperature=1.0\n",
    "    )\n",
    "    \n",
    "    midi_lstm.notes_to_midi(\n",
    "        generated_notes_short, \n",
    "        'generated_music_short2.mid',\n",
    "        tempo=120\n",
    "    )\n",
    "    \n",
    "    print(\"\\n✅ Lightweight music generation completed!\")\n",
    "    print(\"📁 Files generated:\")\n",
    "    print(\"   - symbolic_unconditioned.mid (for assignment submission)\")\n",
    "    print(\"   - generated_music_short.mid (test sample)\")\n",
    "    print(\"   - lightweight_midi_lstm.h5 (trained model)\")\n",
    "    \n",
    "    # Display some statistics\n",
    "    print(f\"\\n📊 Statistics:\")\n",
    "    print(f\"   - Training samples: {len(X):,}\")\n",
    "    print(f\"   - Vocabulary size: {midi_lstm.vocab_size}\")\n",
    "    print(f\"   - Model parameters: {midi_lstm.model.count_params():,}\")\n",
    "    print(f\"   - Training epochs: {len(history.history['loss'])}\")\n",
    "\n",
    "if __name__ == \"__main__\":\n",
    "    main()\n"
   ]
  },
  {
   "cell_type": "code",
   "execution_count": 3,
   "id": "f521507a",
   "metadata": {},
   "outputs": [
    {
     "name": "stdout",
     "output_type": "stream",
     "text": [
      "Collecting matplotlib\n",
      "  Using cached matplotlib-3.9.4-cp39-cp39-macosx_11_0_arm64.whl.metadata (11 kB)\n",
      "Requirement already satisfied: contourpy>=1.0.1 in ./venv/lib/python3.9/site-packages (from matplotlib) (1.3.0)\n",
      "Collecting cycler>=0.10 (from matplotlib)\n",
      "  Using cached cycler-0.12.1-py3-none-any.whl.metadata (3.8 kB)\n",
      "Collecting fonttools>=4.22.0 (from matplotlib)\n",
      "  Using cached fonttools-4.58.1-cp39-cp39-macosx_10_9_universal2.whl.metadata (106 kB)\n",
      "Collecting kiwisolver>=1.3.1 (from matplotlib)\n",
      "  Using cached kiwisolver-1.4.7-cp39-cp39-macosx_11_0_arm64.whl.metadata (6.3 kB)\n",
      "Requirement already satisfied: numpy>=1.23 in ./venv/lib/python3.9/site-packages (from matplotlib) (2.0.2)\n",
      "Requirement already satisfied: packaging>=20.0 in ./venv/lib/python3.9/site-packages (from matplotlib) (25.0)\n",
      "Requirement already satisfied: pillow>=8 in ./venv/lib/python3.9/site-packages (from matplotlib) (11.2.1)\n",
      "Requirement already satisfied: pyparsing>=2.3.1 in ./venv/lib/python3.9/site-packages (from matplotlib) (3.2.3)\n",
      "Requirement already satisfied: python-dateutil>=2.7 in ./venv/lib/python3.9/site-packages (from matplotlib) (2.9.0.post0)\n",
      "Collecting importlib-resources>=3.2.0 (from matplotlib)\n",
      "  Using cached importlib_resources-6.5.2-py3-none-any.whl.metadata (3.9 kB)\n",
      "Requirement already satisfied: zipp>=3.1.0 in ./venv/lib/python3.9/site-packages (from importlib-resources>=3.2.0->matplotlib) (3.22.0)\n",
      "Requirement already satisfied: six>=1.5 in ./venv/lib/python3.9/site-packages (from python-dateutil>=2.7->matplotlib) (1.17.0)\n",
      "Using cached matplotlib-3.9.4-cp39-cp39-macosx_11_0_arm64.whl (7.8 MB)\n",
      "Using cached cycler-0.12.1-py3-none-any.whl (8.3 kB)\n",
      "Using cached fonttools-4.58.1-cp39-cp39-macosx_10_9_universal2.whl (2.7 MB)\n",
      "Using cached importlib_resources-6.5.2-py3-none-any.whl (37 kB)\n",
      "Using cached kiwisolver-1.4.7-cp39-cp39-macosx_11_0_arm64.whl (64 kB)\n",
      "Installing collected packages: kiwisolver, importlib-resources, fonttools, cycler, matplotlib\n",
      "\u001b[2K   \u001b[90m━━━━━━━━━━━━━━━━━━━━━━━━━━━━━━━━━━━━━━━━\u001b[0m \u001b[32m5/5\u001b[0m [matplotlib]5\u001b[0m [matplotlib]\n",
      "\u001b[1A\u001b[2KSuccessfully installed cycler-0.12.1 fonttools-4.58.1 importlib-resources-6.5.2 kiwisolver-1.4.7 matplotlib-3.9.4\n"
     ]
    }
   ],
   "source": [
    "!pip install matplotlib"
   ]
  },
  {
   "cell_type": "markdown",
   "id": "bc8f7054",
   "metadata": {},
   "source": [
    "#########\n",
    "EVALUATION PROTOCOL"
   ]
  },
  {
   "cell_type": "code",
   "execution_count": null,
   "id": "f1bc0b56",
   "metadata": {},
   "outputs": [],
   "source": [
    "import numpy as np\n",
    "import matplotlib.pyplot as plt\n",
    "from collections import Counter\n",
    "\n",
    "def evaluate_statistics(note_sequence, title=\"Generated Sequence\"):\n",
    "    print(f\"Evaluating {title}\")\n",
    "    \n",
    "    # Pitch range\n",
    "    min_pitch = min(note_sequence)\n",
    "    max_pitch = max(note_sequence)\n",
    "    print(f\"Pitch Range: {min_pitch} to {max_pitch}\")\n",
    "    \n",
    "    # Pitch histogram\n",
    "    pitch_counts = Counter(note_sequence)\n",
    "    sorted_pitches = sorted(pitch_counts.keys())\n",
    "    frequencies = [pitch_counts[p] for p in sorted_pitches]\n",
    "    \n",
    "    plt.figure(figsize=(12, 4))\n",
    "    plt.bar(sorted_pitches, frequencies)\n",
    "    plt.title(f\"{title} - Pitch Distribution\")\n",
    "    plt.xlabel(\"MIDI Pitch\")\n",
    "    plt.ylabel(\"Frequency\")\n",
    "    plt.show()\n",
    "    \n",
    "    # Entropy (variety of notes)\n",
    "    total = sum(frequencies)\n",
    "    probs = [f / total for f in frequencies]\n",
    "    entropy = -sum(p * np.log2(p) for p in probs if p > 0)\n",
    "    print(f\"Entropy (pitch diversity): {entropy:.2f}\")\n",
    "    \n",
    "    # Repetition rate\n",
    "    repeated_notes = sum(1 for i in range(1, len(note_sequence)) if note_sequence[i] == note_sequence[i-1])\n",
    "    repetition_rate = repeated_notes / len(note_sequence)\n",
    "    print(f\"Repetition rate (immediate): {repetition_rate:.2%}\")\n"
   ]
  },
  {
   "cell_type": "markdown",
   "id": "a38e7c50",
   "metadata": {},
   "source": [
    "Define a function to extract note pitches from a MIDI file"
   ]
  },
  {
   "cell_type": "code",
   "execution_count": 7,
   "id": "40aefada",
   "metadata": {},
   "outputs": [],
   "source": [
    "import pretty_midi\n",
    "\n",
    "def extract_pitches_from_midi(midi_path):\n",
    "    \"\"\"Extract note pitches from a MIDI file as a list of integers\"\"\"\n",
    "    try:\n",
    "        midi = pretty_midi.PrettyMIDI(midi_path)\n",
    "        pitches = []\n",
    "        for instrument in midi.instruments:\n",
    "            if not instrument.is_drum:\n",
    "                for note in instrument.notes:\n",
    "                    pitches.append(note.pitch)\n",
    "        return pitches\n",
    "    except Exception as e:\n",
    "        print(f\"Error reading {midi_path}: {e}\")\n",
    "        return []\n"
   ]
  },
  {
   "cell_type": "code",
   "execution_count": 21,
   "id": "40e5891e",
   "metadata": {},
   "outputs": [
    {
     "name": "stdout",
     "output_type": "stream",
     "text": [
      "🎵 Evaluating Generated MIDI: symbolic_unconditioned2.mid\n",
      "Pitch Range: 36 to 55\n"
     ]
    },
    {
     "data": {
      "image/png": "[encoded data removed]",
      "text/plain": [
       "<Figure size 1200x400 with 1 Axes>"
      ]
     },
     "metadata": {},
     "output_type": "display_data"
    },
    {
     "name": "stdout",
     "output_type": "stream",
     "text": [
      "Entropy (pitch diversity): 3.15\n",
      "Repetition rate (immediate): 1.11%\n"
     ]
    }
   ],
   "source": [
    "# Load the generated MIDI\n",
    "generated_pitches = extract_pitches_from_midi(\"symbolic_unconditioned2.mid\")\n",
    "\n",
    "# Run evaluation\n",
    "evaluate_statistics(generated_pitches, title=\"Generated MIDI: symbolic_unconditioned2.mid\")\n"
   ]
  },
  {
   "cell_type": "code",
   "execution_count": null,
   "id": "b7f26b5e",
   "metadata": {},
   "outputs": [],
   "source": []
  },
  {
   "cell_type": "markdown",
   "id": "82bae91d",
   "metadata": {},
   "source": [
    "RANDOM SAMPLING BASELINE\n",
    "\n",
    "This baseline randomly samples pitches from the training vocabulary."
   ]
  },
  {
   "cell_type": "code",
   "execution_count": 11,
   "id": "60c1ce9a",
   "metadata": {},
   "outputs": [],
   "source": [
    "def generate_random_baseline(int_to_note, num_notes=200, seed=42):\n",
    "    \"\"\"Generate random sequence of MIDI notes from the vocabulary.\"\"\"\n",
    "    np.random.seed(seed)\n",
    "    vocab = list(int_to_note.values())\n",
    "    generated = np.random.choice(vocab, size=num_notes)\n",
    "    return generated.tolist()\n"
   ]
  },
  {
   "cell_type": "markdown",
   "id": "f30b0fe2",
   "metadata": {},
   "source": [
    "First-Order Markov Model Baseline\n",
    "\n",
    "Builds a transition matrix from training data and generates based on current note's probabilities."
   ]
  },
  {
   "cell_type": "code",
   "execution_count": 12,
   "id": "61e984bf",
   "metadata": {},
   "outputs": [],
   "source": [
    "from collections import defaultdict\n",
    "import random\n",
    "\n",
    "def build_markov_model(note_sequence):\n",
    "    \"\"\"Create a first-order Markov model (transition dict) from notes.\"\"\"\n",
    "    transitions = defaultdict(list)\n",
    "    for i in range(len(note_sequence) - 1):\n",
    "        curr_note = note_sequence[i]\n",
    "        next_note = note_sequence[i + 1]\n",
    "        transitions[curr_note].append(next_note)\n",
    "    return transitions\n",
    "\n",
    "def generate_markov_sequence(transitions, int_to_note, start_note=None, length=200):\n",
    "    \"\"\"Generate note sequence from a Markov model.\"\"\"\n",
    "    notes = list(transitions.keys())\n",
    "    if not start_note:\n",
    "        start_note = random.choice(notes)\n",
    "    \n",
    "    result = [start_note]\n",
    "    for _ in range(length - 1):\n",
    "        next_candidates = transitions.get(result[-1], notes)\n",
    "        next_note = random.choice(next_candidates)\n",
    "        result.append(next_note)\n",
    "    return result\n"
   ]
  },
  {
   "cell_type": "code",
   "execution_count": 13,
   "id": "53bb669c",
   "metadata": {},
   "outputs": [],
   "source": [
    "import pretty_midi\n",
    "\n",
    "def save_notes_to_midi(notes, output_path=\"baseline.mid\", tempo=120):\n",
    "    \"\"\"Convert a list of MIDI pitches to a .mid file using PrettyMIDI.\"\"\"\n",
    "    midi = pretty_midi.PrettyMIDI(initial_tempo=tempo)\n",
    "    piano = pretty_midi.Instrument(program=0)\n",
    "\n",
    "    current_time = 0.0\n",
    "    duration = 0.5  # Default note length in seconds\n",
    "\n",
    "    for pitch in notes:\n",
    "        try:\n",
    "            note = pretty_midi.Note(\n",
    "                velocity=80,\n",
    "                pitch=int(pitch),\n",
    "                start=current_time,\n",
    "                end=current_time + duration\n",
    "            )\n",
    "            piano.notes.append(note)\n",
    "            current_time += duration\n",
    "        except Exception as e:\n",
    "            print(f\"⚠️ Skipping pitch {pitch}: {e}\")\n",
    "\n",
    "    midi.instruments.append(piano)\n",
    "    midi.write(output_path)\n",
    "    print(f\"✅ Saved MIDI to: {output_path}\")\n"
   ]
  },
  {
   "cell_type": "code",
   "execution_count": 18,
   "id": "aa403212",
   "metadata": {},
   "outputs": [
    {
     "name": "stdout",
     "output_type": "stream",
     "text": [
      "Lightweight model built successfully!\n",
      "Total parameters: 112,748\n"
     ]
    },
    {
     "data": {
      "text/html": [
       "<pre style=\"white-space:pre;overflow-x:auto;line-height:normal;font-family:Menlo,'DejaVu Sans Mono',consolas,'Courier New',monospace\"><span style=\"font-weight: bold\">Model: \"sequential_3\"</span>\n",
       "</pre>\n"
      ],
      "text/plain": [
       "\u001b[1mModel: \"sequential_3\"\u001b[0m\n"
      ]
     },
     "metadata": {},
     "output_type": "display_data"
    },
    {
     "data": {
      "text/html": [
       "<pre style=\"white-space:pre;overflow-x:auto;line-height:normal;font-family:Menlo,'DejaVu Sans Mono',consolas,'Courier New',monospace\">┏━━━━━━━━━━━━━━━━━━━━━━━━━━━━━━━━━┳━━━━━━━━━━━━━━━━━━━━━━━━┳━━━━━━━━━━━━━━━┓\n",
       "┃<span style=\"font-weight: bold\"> Layer (type)                    </span>┃<span style=\"font-weight: bold\"> Output Shape           </span>┃<span style=\"font-weight: bold\">       Param # </span>┃\n",
       "┡━━━━━━━━━━━━━━━━━━━━━━━━━━━━━━━━━╇━━━━━━━━━━━━━━━━━━━━━━━━╇━━━━━━━━━━━━━━━┩\n",
       "│ embedding_3 (<span style=\"color: #0087ff; text-decoration-color: #0087ff\">Embedding</span>)         │ (<span style=\"color: #00d7ff; text-decoration-color: #00d7ff\">None</span>, <span style=\"color: #00af00; text-decoration-color: #00af00\">25</span>, <span style=\"color: #00af00; text-decoration-color: #00af00\">64</span>)         │         <span style=\"color: #00af00; text-decoration-color: #00af00\">2,816</span> │\n",
       "├─────────────────────────────────┼────────────────────────┼───────────────┤\n",
       "│ lstm_3 (<span style=\"color: #0087ff; text-decoration-color: #0087ff\">LSTM</span>)                   │ (<span style=\"color: #00d7ff; text-decoration-color: #00d7ff\">None</span>, <span style=\"color: #00af00; text-decoration-color: #00af00\">128</span>)            │        <span style=\"color: #00af00; text-decoration-color: #00af00\">98,816</span> │\n",
       "├─────────────────────────────────┼────────────────────────┼───────────────┤\n",
       "│ dense_6 (<span style=\"color: #0087ff; text-decoration-color: #0087ff\">Dense</span>)                 │ (<span style=\"color: #00d7ff; text-decoration-color: #00d7ff\">None</span>, <span style=\"color: #00af00; text-decoration-color: #00af00\">64</span>)             │         <span style=\"color: #00af00; text-decoration-color: #00af00\">8,256</span> │\n",
       "├─────────────────────────────────┼────────────────────────┼───────────────┤\n",
       "│ dropout_3 (<span style=\"color: #0087ff; text-decoration-color: #0087ff\">Dropout</span>)             │ (<span style=\"color: #00d7ff; text-decoration-color: #00d7ff\">None</span>, <span style=\"color: #00af00; text-decoration-color: #00af00\">64</span>)             │             <span style=\"color: #00af00; text-decoration-color: #00af00\">0</span> │\n",
       "├─────────────────────────────────┼────────────────────────┼───────────────┤\n",
       "│ dense_7 (<span style=\"color: #0087ff; text-decoration-color: #0087ff\">Dense</span>)                 │ (<span style=\"color: #00d7ff; text-decoration-color: #00d7ff\">None</span>, <span style=\"color: #00af00; text-decoration-color: #00af00\">44</span>)             │         <span style=\"color: #00af00; text-decoration-color: #00af00\">2,860</span> │\n",
       "└─────────────────────────────────┴────────────────────────┴───────────────┘\n",
       "</pre>\n"
      ],
      "text/plain": [
       "┏━━━━━━━━━━━━━━━━━━━━━━━━━━━━━━━━━┳━━━━━━━━━━━━━━━━━━━━━━━━┳━━━━━━━━━━━━━━━┓\n",
       "┃\u001b[1m \u001b[0m\u001b[1mLayer (type)                   \u001b[0m\u001b[1m \u001b[0m┃\u001b[1m \u001b[0m\u001b[1mOutput Shape          \u001b[0m\u001b[1m \u001b[0m┃\u001b[1m \u001b[0m\u001b[1m      Param #\u001b[0m\u001b[1m \u001b[0m┃\n",
       "┡━━━━━━━━━━━━━━━━━━━━━━━━━━━━━━━━━╇━━━━━━━━━━━━━━━━━━━━━━━━╇━━━━━━━━━━━━━━━┩\n",
       "│ embedding_3 (\u001b[38;5;33mEmbedding\u001b[0m)         │ (\u001b[38;5;45mNone\u001b[0m, \u001b[38;5;34m25\u001b[0m, \u001b[38;5;34m64\u001b[0m)         │         \u001b[38;5;34m2,816\u001b[0m │\n",
       "├─────────────────────────────────┼────────────────────────┼───────────────┤\n",
       "│ lstm_3 (\u001b[38;5;33mLSTM\u001b[0m)                   │ (\u001b[38;5;45mNone\u001b[0m, \u001b[38;5;34m128\u001b[0m)            │        \u001b[38;5;34m98,816\u001b[0m │\n",
       "├─────────────────────────────────┼────────────────────────┼───────────────┤\n",
       "│ dense_6 (\u001b[38;5;33mDense\u001b[0m)                 │ (\u001b[38;5;45mNone\u001b[0m, \u001b[38;5;34m64\u001b[0m)             │         \u001b[38;5;34m8,256\u001b[0m │\n",
       "├─────────────────────────────────┼────────────────────────┼───────────────┤\n",
       "│ dropout_3 (\u001b[38;5;33mDropout\u001b[0m)             │ (\u001b[38;5;45mNone\u001b[0m, \u001b[38;5;34m64\u001b[0m)             │             \u001b[38;5;34m0\u001b[0m │\n",
       "├─────────────────────────────────┼────────────────────────┼───────────────┤\n",
       "│ dense_7 (\u001b[38;5;33mDense\u001b[0m)                 │ (\u001b[38;5;45mNone\u001b[0m, \u001b[38;5;34m44\u001b[0m)             │         \u001b[38;5;34m2,860\u001b[0m │\n",
       "└─────────────────────────────────┴────────────────────────┴───────────────┘\n"
      ]
     },
     "metadata": {},
     "output_type": "display_data"
    },
    {
     "data": {
      "text/html": [
       "<pre style=\"white-space:pre;overflow-x:auto;line-height:normal;font-family:Menlo,'DejaVu Sans Mono',consolas,'Courier New',monospace\"><span style=\"font-weight: bold\"> Total params: </span><span style=\"color: #00af00; text-decoration-color: #00af00\">112,748</span> (440.42 KB)\n",
       "</pre>\n"
      ],
      "text/plain": [
       "\u001b[1m Total params: \u001b[0m\u001b[38;5;34m112,748\u001b[0m (440.42 KB)\n"
      ]
     },
     "metadata": {},
     "output_type": "display_data"
    },
    {
     "data": {
      "text/html": [
       "<pre style=\"white-space:pre;overflow-x:auto;line-height:normal;font-family:Menlo,'DejaVu Sans Mono',consolas,'Courier New',monospace\"><span style=\"font-weight: bold\"> Trainable params: </span><span style=\"color: #00af00; text-decoration-color: #00af00\">112,748</span> (440.42 KB)\n",
       "</pre>\n"
      ],
      "text/plain": [
       "\u001b[1m Trainable params: \u001b[0m\u001b[38;5;34m112,748\u001b[0m (440.42 KB)\n"
      ]
     },
     "metadata": {},
     "output_type": "display_data"
    },
    {
     "data": {
      "text/html": [
       "<pre style=\"white-space:pre;overflow-x:auto;line-height:normal;font-family:Menlo,'DejaVu Sans Mono',consolas,'Courier New',monospace\"><span style=\"font-weight: bold\"> Non-trainable params: </span><span style=\"color: #00af00; text-decoration-color: #00af00\">0</span> (0.00 B)\n",
       "</pre>\n"
      ],
      "text/plain": [
       "\u001b[1m Non-trainable params: \u001b[0m\u001b[38;5;34m0\u001b[0m (0.00 B)\n"
      ]
     },
     "metadata": {},
     "output_type": "display_data"
    },
    {
     "name": "stdout",
     "output_type": "stream",
     "text": [
      "None\n",
      "✅ Reinitialized LSTM model with saved weights and vocab.\n"
     ]
    }
   ],
   "source": [
    "# Step 1: Recreate class with same config\n",
    "midi_lstm = LightweightMidiLSTM(\n",
    "    sequence_length=25,\n",
    "    embedding_dim=64,\n",
    "    lstm_units=128,\n",
    "    dropout_rate=0.2,\n",
    "    max_notes=500\n",
    ")\n",
    "\n",
    "# Step 2: Load saved vocab data FIRST\n",
    "import pickle\n",
    "with open(\"lightweight_midi_lstm_data.pkl\", \"rb\") as f:\n",
    "    data = pickle.load(f)\n",
    "\n",
    "midi_lstm.note_to_int = data[\"note_to_int\"]\n",
    "midi_lstm.int_to_note = data[\"int_to_note\"]\n",
    "midi_lstm.vocab_size = data[\"vocab_size\"]\n",
    "\n",
    "# Step 3: Now safely build model with known vocab size\n",
    "midi_lstm.build_model()\n",
    "\n",
    "# Step 4: Load weights\n",
    "midi_lstm.model.load_weights(\"lightweight_midi_lstm.h5\")\n",
    "\n",
    "print(\"✅ Reinitialized LSTM model with saved weights and vocab.\")\n"
   ]
  },
  {
   "cell_type": "code",
   "execution_count": 19,
   "id": "9d936e7e",
   "metadata": {},
   "outputs": [
    {
     "name": "stdout",
     "output_type": "stream",
     "text": [
      "Processing MIDI files...\n",
      "Using random sample of 30 files for faster training\n",
      "Found 30 MIDI files\n",
      "Processed 10/30 files\n",
      "Processed 20/30 files\n",
      "Processed 30/30 files\n",
      "Extracted 9157 notes from 30 files\n",
      "Vocabulary size: 47 (MIDI range: 36-84)\n",
      "🎵 Evaluating Random Baseline\n",
      "Pitch Range: 36 to 84\n"
     ]
    },
    {
     "data": {
      "image/png": "[encoded data removed]",
      "text/plain": [
       "<Figure size 1200x400 with 1 Axes>"
      ]
     },
     "metadata": {},
     "output_type": "display_data"
    },
    {
     "name": "stdout",
     "output_type": "stream",
     "text": [
      "Entropy (pitch diversity): 5.35\n",
      "Repetition rate (immediate): 3.00%\n",
      "🎵 Evaluating Markov Baseline\n",
      "Pitch Range: 0 to 45\n"
     ]
    },
    {
     "data": {
      "image/png": "[encoded data removed]",
      "text/plain": [
       "<Figure size 1200x400 with 1 Axes>"
      ]
     },
     "metadata": {},
     "output_type": "display_data"
    },
    {
     "name": "stdout",
     "output_type": "stream",
     "text": [
      "Entropy (pitch diversity): 4.56\n",
      "Repetition rate (immediate): 13.50%\n"
     ]
    }
   ],
   "source": [
    "# === Get data from training ===\n",
    "notes = midi_lstm.preprocess_midi_files(\"nottingham-dataset/MIDI\", max_files=30)\n",
    "filtered_notes = midi_lstm.create_vocabulary(notes)\n",
    "note_ints = [midi_lstm.note_to_int[n] for n in filtered_notes if n in midi_lstm.note_to_int]\n",
    "int_to_note = midi_lstm.int_to_note\n",
    "\n",
    "# === Run baselines ===\n",
    "random_notes = generate_random_baseline(int_to_note, num_notes=200)\n",
    "markov_model = build_markov_model(note_ints)\n",
    "markov_notes = generate_markov_sequence(markov_model, int_to_note, start_note=note_ints[0], length=200)\n",
    "\n",
    "# === Evaluate each ===\n",
    "evaluate_statistics(random_notes, title=\"Random Baseline\")\n",
    "evaluate_statistics(markov_notes, title=\"Markov Baseline\")\n"
   ]
  },
  {
   "cell_type": "code",
   "execution_count": 20,
   "id": "28ad07df",
   "metadata": {},
   "outputs": [
    {
     "name": "stdout",
     "output_type": "stream",
     "text": [
      "✅ Saved MIDI to: random_baseline.mid\n",
      "✅ Saved MIDI to: markov_baseline.mid\n"
     ]
    }
   ],
   "source": [
    "# Save Random Baseline\n",
    "save_notes_to_midi(random_notes, output_path=\"random_baseline.mid\")\n",
    "\n",
    "# Save Markov Baseline\n",
    "save_notes_to_midi(markov_notes, output_path=\"markov_baseline.mid\")\n"
   ]
  },
  {
   "cell_type": "code",
   "execution_count": null,
   "id": "e698ef80",
   "metadata": {},
   "outputs": [],
   "source": []
  }
 ],
 "metadata": {
  "kernelspec": {
   "display_name": "venv",
   "language": "python",
   "name": "python3"
  },
  "language_info": {
   "codemirror_mode": {
    "name": "ipython",
    "version": 3
   },
   "file_extension": ".py",
   "mimetype": "text/x-python",
   "name": "python",
   "nbconvert_exporter": "python",
   "pygments_lexer": "ipython3",
   "version": "3.9.6"
  }
 },
 "nbformat": 4,
 "nbformat_minor": 5
}
